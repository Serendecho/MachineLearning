{
 "cells": [
  {
   "cell_type": "markdown",
   "metadata": {},
   "source": [
    "# 使用回归分析对房价进行分析\n",
    "回归分析法指利用数据统计原理，对大量统计数据进行数学处理，并确定因变量与某些自变量的相关关系，建立一个相关性较好的回归方程（函数表达式），并加以外推，用于预测今后的因变量的变化的分析方法。根据因变量和自变量的个数分为：一元回归分析和多元回归分析；根据因变量和自变量的函数表达式分为：线性回归分析和非线性回归分析"
   ]
  },
  {
   "cell_type": "markdown",
   "metadata": {},
   "source": [
    "## 导入数据集，并查看数据样式"
   ]
  },
  {
   "cell_type": "code",
   "execution_count": 2,
   "metadata": {},
   "outputs": [
    {
     "name": "stdout",
     "output_type": "stream",
     "text": [
      "波士顿房价数据集的形状为：\n",
      " (506, 13)\n",
      "波士顿房价数据集的特征向量前十条为：\n",
      " [[6.3200e-03 1.8000e+01 2.3100e+00 0.0000e+00 5.3800e-01 6.5750e+00\n",
      "  6.5200e+01 4.0900e+00 1.0000e+00 2.9600e+02 1.5300e+01 3.9690e+02\n",
      "  4.9800e+00]\n",
      " [2.7310e-02 0.0000e+00 7.0700e+00 0.0000e+00 4.6900e-01 6.4210e+00\n",
      "  7.8900e+01 4.9671e+00 2.0000e+00 2.4200e+02 1.7800e+01 3.9690e+02\n",
      "  9.1400e+00]\n",
      " [2.7290e-02 0.0000e+00 7.0700e+00 0.0000e+00 4.6900e-01 7.1850e+00\n",
      "  6.1100e+01 4.9671e+00 2.0000e+00 2.4200e+02 1.7800e+01 3.9283e+02\n",
      "  4.0300e+00]\n",
      " [3.2370e-02 0.0000e+00 2.1800e+00 0.0000e+00 4.5800e-01 6.9980e+00\n",
      "  4.5800e+01 6.0622e+00 3.0000e+00 2.2200e+02 1.8700e+01 3.9463e+02\n",
      "  2.9400e+00]\n",
      " [6.9050e-02 0.0000e+00 2.1800e+00 0.0000e+00 4.5800e-01 7.1470e+00\n",
      "  5.4200e+01 6.0622e+00 3.0000e+00 2.2200e+02 1.8700e+01 3.9690e+02\n",
      "  5.3300e+00]\n",
      " [2.9850e-02 0.0000e+00 2.1800e+00 0.0000e+00 4.5800e-01 6.4300e+00\n",
      "  5.8700e+01 6.0622e+00 3.0000e+00 2.2200e+02 1.8700e+01 3.9412e+02\n",
      "  5.2100e+00]\n",
      " [8.8290e-02 1.2500e+01 7.8700e+00 0.0000e+00 5.2400e-01 6.0120e+00\n",
      "  6.6600e+01 5.5605e+00 5.0000e+00 3.1100e+02 1.5200e+01 3.9560e+02\n",
      "  1.2430e+01]\n",
      " [1.4455e-01 1.2500e+01 7.8700e+00 0.0000e+00 5.2400e-01 6.1720e+00\n",
      "  9.6100e+01 5.9505e+00 5.0000e+00 3.1100e+02 1.5200e+01 3.9690e+02\n",
      "  1.9150e+01]\n",
      " [2.1124e-01 1.2500e+01 7.8700e+00 0.0000e+00 5.2400e-01 5.6310e+00\n",
      "  1.0000e+02 6.0821e+00 5.0000e+00 3.1100e+02 1.5200e+01 3.8663e+02\n",
      "  2.9930e+01]\n",
      " [1.7004e-01 1.2500e+01 7.8700e+00 0.0000e+00 5.2400e-01 6.0040e+00\n",
      "  8.5900e+01 6.5921e+00 5.0000e+00 3.1100e+02 1.5200e+01 3.8671e+02\n",
      "  1.7100e+01]]\n",
      "波士顿房价数据集的标签前十条为：\n",
      " [24.  21.6 34.7 33.4 36.2 28.7 22.9 27.1 16.5 18.9]\n"
     ]
    }
   ],
   "source": [
    "import numpy as np\n",
    "import matplotlib.pyplot as plt   # Python用于可视化的工具\n",
    "from sklearn.datasets import load_boston  # 导入sklearn中自带的波士顿房价数据集\n",
    "from sklearn.linear_model import LinearRegression  # 引入线性回归模型\n",
    "from sklearn.model_selection import train_test_split  # 引入将数据集拆分为训练和测试数据的方法\n",
    "from sklearn.preprocessing import StandardScaler  # 引入标准化方法\n",
    "\n",
    "boston_data = load_boston()  # 导入数据集\n",
    "boston_features = boston_data.data  # 将数据存入boston_features\n",
    "boston_labels = boston_data.target  # 将标签存入boston_labels\n",
    "\n",
    "print('波士顿房价数据集的形状为：\\n', boston_features.shape)\n",
    "print('波士顿房价数据集的特征向量前十条为：\\n', boston_features[:10])\n",
    "print('波士顿房价数据集的标签前十条为：\\n', boston_labels[:10])"
   ]
  },
  {
   "cell_type": "markdown",
   "metadata": {},
   "source": [
    "## 数据集拆分及特征工程\n",
    "标准化的作用是去量纲。标准化回归系数之间可以比较大小(看出哪个自变量影响更大)。未标准化的系数量纲不同，不能比较大小。看起来大的可能小。\n",
    "\n",
    "此实验经验证，标准化后评估结果相同，未体现优化效果，于是仅使用该模块来将数据放缩成更容易理解的程度以开展分析。"
   ]
  },
  {
   "cell_type": "code",
   "execution_count": 4,
   "metadata": {},
   "outputs": [
    {
     "name": "stdout",
     "output_type": "stream",
     "text": [
      "标准化后的波士顿房价数据集的特征向量前十条为：\n",
      " [[ 0.47618976 -0.47197651  0.98283915 -0.29329423  0.48826135 -0.24598332\n",
      "   0.56560687 -0.82724707  1.65418218  1.52096411  0.7956551  -3.95575447\n",
      "   1.47994673]\n",
      " [-0.43791892  0.66423199 -0.94306069 -0.29329423 -1.12964809  0.03228252\n",
      "  -1.35521495  0.81193876 -0.63565712 -0.75476128  0.23245815  0.44983274\n",
      "  -0.84353836]\n",
      " [-0.44097905  3.61837411 -1.47253768 -0.29329423 -1.32758382  1.35649235\n",
      "  -1.72921239  2.4108593  -0.52116516 -1.07986491 -0.28380573  0.43899695\n",
      "  -1.11136314]\n",
      " [ 1.38853248 -0.47197651  0.98283915 -0.29329423  0.34196103  0.52868641\n",
      "   1.1066323  -1.06704392  1.65418218  1.52096411  0.7956551  -3.59236446\n",
      "   1.18968637]\n",
      " [-0.38590182 -0.47197651 -0.1095708   3.40954542 -0.58747631 -1.30730883\n",
      "   1.1066323   0.07178492 -0.63565712 -0.77840518  0.04472583  0.44983274\n",
      "   1.45190225]\n",
      " [-0.40770985 -0.47197651 -0.24048544 -0.29329423  0.23869021 -0.67806446\n",
      "   0.03910562 -0.40475249 -0.40667319 -0.10455403  0.32632431  0.44983274\n",
      "   0.19130292]\n",
      " [-0.31546396 -0.47197651  1.53413525 -0.29329423  0.57432036 -0.72980233\n",
      "   1.04853561 -0.66996984 -0.63565712  0.16735082  1.2649859  -1.04863439\n",
      "   0.6414168 ]\n",
      " [ 0.31635241 -0.47197651  0.98283915 -0.29329423 -0.21742256 -0.05161673\n",
      "  -0.17512593 -0.14690903  1.65418218  1.52096411  0.7956551   0.44983274\n",
      "  -0.27984433]\n",
      " [-0.43459291  1.3459571  -1.46817386 -0.29329423 -1.10383039  0.29516684\n",
      "  -0.91222769  2.45718865 -0.97913302 -0.43556863  0.56098971  0.44983274\n",
      "  -0.94730294]\n",
      " [-0.42775192  0.43699029 -0.63759319 -0.29329423 -0.80262385  0.36228624\n",
      "  -0.39298852  0.09240269 -0.75014909 -1.09759783  0.04472583  0.42816116\n",
      "  -0.70191374]]\n"
     ]
    }
   ],
   "source": [
    "# 将数据集拆分为训练和测试数据集\n",
    "X_train, X_test, y_train, y_test = train_test_split(boston_features, boston_labels, test_size=0.2, random_state=21)\n",
    "\n",
    "# 将数据集进行标准化\n",
    "# 初始化对特征和目标值的标准化器。Y不是必须，未对Y进行标准化\n",
    "standardscaler_X = StandardScaler()\n",
    "# 分别对训练和测试数据的特征以及目标值进行标准化处理\n",
    "X_train = standardscaler_X.fit_transform(X_train)\n",
    "X_test = standardscaler_X.fit_transform(X_test)\n",
    "\n",
    "print('标准化后的波士顿房价数据集的特征向量前十条为：\\n', X_train[:10])"
   ]
  },
  {
   "cell_type": "markdown",
   "metadata": {},
   "source": [
    "## 回归模型构建"
   ]
  },
  {
   "cell_type": "markdown",
   "metadata": {},
   "source": [
    "|参数名称|描述|\n",
    "|:-|:-| \n",
    "|fit_intercept|是否有截据，如果没有则直线过原点|\n",
    "|normalize|是否将数据归一化|\n",
    "|copy_X|默认为True，当为True时，X会被copied,否则X将会被覆写|\n",
    "|n_jobs|默认值为1。计算时使用的核数，决定计算速度|"
   ]
  },
  {
   "cell_type": "code",
   "execution_count": 6,
   "metadata": {},
   "outputs": [],
   "source": [
    "# 使用默认配置初始化\n",
    "lr = LinearRegression(n_jobs=-1)  # n_jobs只决定运行方式、速度\n",
    "\n",
    "# 训练模型参数\n",
    "lr.fit(X_train, y_train)\n",
    "\n",
    "# 使用构建的线性回归模型进行预测\n",
    "y_test_pred_lr = lr.predict(X_test)\n",
    "y_train_pred_lr = lr.predict(X_train)"
   ]
  },
  {
   "cell_type": "markdown",
   "metadata": {},
   "source": [
    "## 回归模型评估\n",
    "### 使用R2分数进行评价\n",
    "本例中的房价预测属于回归问题，要判断模型预测值与实际值的拟合程度，可以使用R2分数进行评价。R2是决定系数（coefficient of determination）,在统计学中，它表征回归方程多大程度上解释了因变量的变化，可用来表示表示对模型拟合程度的好坏，其取值范围是0~1，R2等于1表示模型可以100%解释目标值变化，R2等于0表示模型完全不能解释目标值的变化"
   ]
  },
  {
   "cell_type": "code",
   "execution_count": 7,
   "metadata": {},
   "outputs": [
    {
     "name": "stdout",
     "output_type": "stream",
     "text": [
      "The r2 score of LinearRegression on test is  0.7137891359163673\n",
      "The r2 score of LinearRegression on train is  0.745666417026366\n"
     ]
    }
   ],
   "source": [
    "# 使用r2_score评价模型在测试集和训练集上的性能，并输出评估结果\n",
    "from sklearn.metrics import r2_score\n",
    "\n",
    "# 测试集\n",
    "print('The r2 score of LinearRegression on test is ', r2_score(y_test, y_test_pred_lr))\n",
    "\n",
    "# 训练集\n",
    "print('The r2 score of LinearRegression on train is ', r2_score(y_train, y_train_pred_lr))"
   ]
  },
  {
   "cell_type": "markdown",
   "metadata": {},
   "source": [
    "### 通过可视化分析判断模型预测结果\n",
    "jupyter 中需要加入%matplotlib inline 以使定义的图能够在代码窗格后出现"
   ]
  },
  {
   "cell_type": "code",
   "execution_count": 9,
   "metadata": {},
   "outputs": [],
   "source": [
    "%matplotlib inline"
   ]
  },
  {
   "cell_type": "code",
   "execution_count": 11,
   "metadata": {},
   "outputs": [
    {
     "data": {
      "image/png": "[encoded data removed]",
      "text/plain": [
       "<Figure size 288x216 with 1 Axes>"
      ]
     },
     "metadata": {
      "needs_background": "light"
     },
     "output_type": "display_data"
    }
   ],
   "source": [
    "plt.figure(figsize = (4, 3))            # 图形尺寸为 4*3\n",
    "plt.scatter(y_train, y_train_pred_lr) # 点的位置：当横轴数值为训练集的数据时，纵轴的值为预测的数据\n",
    "plt.plot([0, 50], [0, 50], '--k') # （0,0）到（50，50）的线，--是线的样式，k表示线为黑色\n",
    "plt.axis('tight')  # 紧凑型\n",
    "plt.xlabel('True price')  # 横轴的标签\n",
    "plt.ylabel('Predicted price')  # 纵轴的标签\n",
    "\n",
    "plt.show() # 用于显示图像"
   ]
  },
  {
   "cell_type": "code",
   "execution_count": null,
   "metadata": {},
   "outputs": [],
   "source": []
  }
 ],
 "metadata": {
  "kernelspec": {
   "display_name": "Python 3",
   "language": "python",
   "name": "python3"
  },
  "language_info": {
   "codemirror_mode": {
    "name": "ipython",
    "version": 3
   },
   "file_extension": ".py",
   "mimetype": "text/x-python",
   "name": "python",
   "nbconvert_exporter": "python",
   "pygments_lexer": "ipython3",
   "version": "3.7.0"
  }
 },
 "nbformat": 4,
 "nbformat_minor": 2
}
