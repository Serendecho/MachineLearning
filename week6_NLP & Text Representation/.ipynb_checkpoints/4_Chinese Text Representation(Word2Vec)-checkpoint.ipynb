{
 "cells": [
  {
   "cell_type": "markdown",
   "metadata": {},
   "source": [
    "# 词向量模型训练\n",
    "本研究采用 中文宾州树 词性标注数据集构建词向量模型。请各位同学综合使用训练脚本中的预处理步骤，结合中文停用词词表，构建一个质量更高的中文词向量模型，并对比其中词的相似度，查询词的相似词，以及输出词的词向量进行测试。"
   ]
  },
  {
   "cell_type": "markdown",
   "metadata": {},
   "source": [
    "## 训练word2vec的数据集读取"
   ]
  },
  {
   "cell_type": "code",
   "execution_count": 2,
   "metadata": {},
   "outputs": [
    {
     "name": "stdout",
     "output_type": "stream",
     "text": [
      "文本总词数为： 493691\n",
      "['上海', '浦东', '开发', '与', '法制', '建设', '同步', '新华社', '上海', '二月', '十日', '电', '（', '记者', '谢金虎', '、', '张持坚', '）', '上海', '浦东']\n"
     ]
    }
   ],
   "source": [
    "from gensim.models import Word2Vec\n",
    "import pandas as pd\n",
    "\n",
    "data = pd.read_csv('./data/ctb5.1_pos_train.tsv', sep='\\t', header=None)\n",
    "\n",
    "# 取出文本部分\n",
    "content = data[0]\n",
    "\n",
    "# 将文本部分转化为列表格式\n",
    "content_list = content.tolist()\n",
    "print(\"文本总词数为：\", len(content_list))\n",
    "print(content_list[:20])"
   ]
  },
  {
   "cell_type": "markdown",
   "metadata": {},
   "source": [
    "## 停用词表读取"
   ]
  },
  {
   "cell_type": "code",
   "execution_count": 3,
   "metadata": {},
   "outputs": [
    {
     "name": "stdout",
     "output_type": "stream",
     "text": [
      "['--', '?', '“', '”', '》']\n"
     ]
    }
   ],
   "source": [
    "# 读取停用词表\n",
    "with open('./data/stopwords/baidu_stopwords.txt', 'r', encoding='utf-8') as f:\n",
    "    stopwords = f.readlines()\n",
    "    stopwords =[word.replace('\\n', '') for word in stopwords]\n",
    "    print(stopwords[:5])"
   ]
  },
  {
   "cell_type": "code",
   "execution_count": 7,
   "metadata": {},
   "outputs": [
    {
     "name": "stdout",
     "output_type": "stream",
     "text": [
      "['上海', '浦东', '开发', '法制', '建设', '同步', '新华社', '上海', '二月', '十日', '电', '（', '记者', '谢金虎', '、', '张持坚', '）', '上海', '浦东', '近年'] 361903\n"
     ]
    }
   ],
   "source": [
    "# 去掉停用词\n",
    "filtered_content = [w for w in content_list if not w in stopwords]\n",
    "\n",
    "print(filtered_content[:20], len(filtered_content))"
   ]
  },
  {
   "cell_type": "markdown",
   "metadata": {},
   "source": [
    "## 使用CBOW训练模型"
   ]
  },
  {
   "cell_type": "code",
   "execution_count": 8,
   "metadata": {},
   "outputs": [],
   "source": [
    "filtered_content = [filtered_content]\n",
    "\n",
    "model = Word2Vec(filtered_content, size=100, window=3, \n",
    "                 min_count=1, workers=4, sg=0)"
   ]
  },
  {
   "cell_type": "markdown",
   "metadata": {},
   "source": [
    "## 使用余弦距离计算，取出与目标词最相似的前n个词"
   ]
  },
  {
   "cell_type": "code",
   "execution_count": 9,
   "metadata": {},
   "outputs": [
    {
     "name": "stderr",
     "output_type": "stream",
     "text": [
      "D:\\Anaconda3-5.3.0\\lib\\site-packages\\ipykernel_launcher.py:1: DeprecationWarning: Call to deprecated `most_similar` (Method will be removed in 4.0.0, use self.wv.most_similar() instead).\n",
      "  \"\"\"Entry point for launching an IPython kernel.\n"
     ]
    },
    {
     "data": {
      "text/plain": [
       "[('，', 0.977546751499176),\n",
       " ('中国', 0.9759781360626221),\n",
       " ('经济', 0.9754443168640137),\n",
       " ('。', 0.9727919101715088),\n",
       " ('美元', 0.9705412983894348),\n",
       " ('企业', 0.9691895246505737),\n",
       " ('发展', 0.964545488357544),\n",
       " ('已', 0.9636561274528503),\n",
       " ('、', 0.9635355472564697),\n",
       " ('投资', 0.9633230566978455)]"
      ]
     },
     "execution_count": 9,
     "metadata": {},
     "output_type": "execute_result"
    }
   ],
   "source": [
    "model.most_similar('增长', topn=10)"
   ]
  },
  {
   "cell_type": "markdown",
   "metadata": {},
   "source": [
    "## 比较两个词的相似度"
   ]
  },
  {
   "cell_type": "code",
   "execution_count": 10,
   "metadata": {},
   "outputs": [
    {
     "name": "stderr",
     "output_type": "stream",
     "text": [
      "D:\\Anaconda3-5.3.0\\lib\\site-packages\\ipykernel_launcher.py:1: DeprecationWarning: Call to deprecated `similarity` (Method will be removed in 4.0.0, use self.wv.similarity() instead).\n",
      "  \"\"\"Entry point for launching an IPython kernel.\n"
     ]
    },
    {
     "data": {
      "text/plain": [
       "0.83228266"
      ]
     },
     "execution_count": 10,
     "metadata": {},
     "output_type": "execute_result"
    }
   ],
   "source": [
    "model.similarity(\"上海\", \"开发区\")"
   ]
  },
  {
   "cell_type": "markdown",
   "metadata": {},
   "source": [
    "## 存储模型"
   ]
  },
  {
   "cell_type": "code",
   "execution_count": 11,
   "metadata": {},
   "outputs": [],
   "source": [
    "model.save(\"./data/w2v_filtered\")"
   ]
  },
  {
   "cell_type": "code",
   "execution_count": 12,
   "metadata": {},
   "outputs": [
    {
     "name": "stdout",
     "output_type": "stream",
     "text": [
      "[ 1.76969059e-02  2.13950239e-02 -4.31284029e-03  2.21407861e-02\n",
      "  1.15016161e-03  7.56588206e-03 -3.41478945e-03  7.49544054e-03\n",
      "  6.24884706e-05  1.29936896e-02 -8.54469091e-03 -7.53878290e-03\n",
      "  2.76276522e-04  4.75815643e-04  1.57149676e-02 -9.81380790e-03\n",
      " -3.20120738e-03 -3.94775579e-03 -2.63233576e-03 -8.20463244e-03\n",
      "  6.28957665e-03 -1.84687888e-05  1.14577319e-02  1.30312270e-04\n",
      "  5.26027288e-03 -1.30014103e-02 -1.07022030e-02 -3.66522698e-04\n",
      "  1.74695312e-03  1.13246753e-03 -1.64797850e-04  5.36111416e-03\n",
      "  1.59822125e-03  9.92304832e-03  1.55754397e-02  1.61093622e-02\n",
      "  1.07395584e-02  4.49602026e-03  2.01776600e-03 -4.39551938e-03\n",
      "  8.95472337e-03 -1.55029949e-02  5.25941467e-03 -1.80926849e-03\n",
      " -1.40972957e-02  1.97693873e-02 -9.28190164e-03 -1.75679699e-02\n",
      " -7.08652288e-03  7.05111958e-03 -1.33670168e-02 -8.57312698e-03\n",
      " -4.98532504e-03 -2.16139597e-03  3.10194353e-03 -4.41076700e-03\n",
      " -8.73010047e-03  3.03820544e-03  1.21869026e-02  3.77184851e-03\n",
      "  9.14199371e-03  3.79899051e-03 -1.51468418e-03 -7.06187624e-04\n",
      " -3.88388778e-03 -9.84861422e-03  1.46669680e-02  8.54392163e-03\n",
      "  4.15455038e-03  4.41925088e-03  1.21146319e-02 -1.68372840e-02\n",
      " -5.52558387e-03 -6.82678493e-03 -1.22407067e-03  9.21275467e-03\n",
      "  9.08304006e-03  1.20693585e-02  7.32103921e-03  3.37739429e-03\n",
      "  2.01516342e-03 -1.81211202e-04  9.28876549e-03  1.61753930e-02\n",
      "  6.27964176e-03  3.45284864e-03 -6.98531372e-03 -4.48807096e-03\n",
      "  9.84391198e-03 -1.58091187e-02 -1.43382233e-02  1.35918371e-02\n",
      "  1.44976861e-04 -9.30996519e-03 -1.94780983e-03 -1.99039523e-02\n",
      " -1.22811797e-03  2.32043816e-03 -5.02460357e-03  1.83741935e-03]\n"
     ]
    },
    {
     "name": "stderr",
     "output_type": "stream",
     "text": [
      "D:\\Anaconda3-5.3.0\\lib\\site-packages\\ipykernel_launcher.py:1: DeprecationWarning: Call to deprecated `__getitem__` (Method will be removed in 4.0.0, use self.wv.__getitem__() instead).\n",
      "  \"\"\"Entry point for launching an IPython kernel.\n"
     ]
    }
   ],
   "source": [
    "print(model['开发'])"
   ]
  },
  {
   "cell_type": "code",
   "execution_count": null,
   "metadata": {},
   "outputs": [],
   "source": []
  }
 ],
 "metadata": {
  "kernelspec": {
   "display_name": "Python 3",
   "language": "python",
   "name": "python3"
  },
  "language_info": {
   "codemirror_mode": {
    "name": "ipython",
    "version": 3
   },
   "file_extension": ".py",
   "mimetype": "text/x-python",
   "name": "python",
   "nbconvert_exporter": "python",
   "pygments_lexer": "ipython3",
   "version": "3.7.0"
  }
 },
 "nbformat": 4,
 "nbformat_minor": 2
}
