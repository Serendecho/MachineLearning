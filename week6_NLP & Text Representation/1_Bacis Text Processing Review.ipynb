{
 "cells": [
  {
   "cell_type": "markdown",
   "metadata": {},
   "source": [
    "# 文本处理操作复习\n",
    "NLP处理的对象是文本字符串内容，但是由于大量的文本字符串表达多样性的存在，我们往往需要对数据进行清洗之后才能开展文本表示相关工作。这里我们需要对基础的文本字符串操作进行回顾：\n",
    "* 替换\n",
    "* 截取\n",
    "* 复制\n",
    "* 连接\n",
    "* 分割\n",
    "* 排序\n",
    "* 比较\n",
    "* 查找\n",
    "* 包含\n",
    "* 大小写转换\n",
    "\n",
    "下面我们仅将常用的文本处理操作进行复习，并介绍部分正则表达式的内容。其他文本操作请同学们课后自行学习。"
   ]
  },
  {
   "cell_type": "code",
   "execution_count": 8,
   "metadata": {},
   "outputs": [],
   "source": [
    "basic_str = \" hello world, this is text processing practice! \""
   ]
  },
  {
   "cell_type": "markdown",
   "metadata": {},
   "source": [
    "## 字符串替换"
   ]
  },
  {
   "cell_type": "code",
   "execution_count": 9,
   "metadata": {},
   "outputs": [
    {
     "data": {
      "text/plain": [
       "' hi world, this is text processing practice! '"
      ]
     },
     "execution_count": 9,
     "metadata": {},
     "output_type": "execute_result"
    }
   ],
   "source": [
    "# 字符串替换\n",
    "basic_str.replace('hello', 'hi')"
   ]
  },
  {
   "cell_type": "code",
   "execution_count": 10,
   "metadata": {},
   "outputs": [
    {
     "data": {
      "text/plain": [
       "' hello world this is text processing practice! '"
      ]
     },
     "execution_count": 10,
     "metadata": {},
     "output_type": "execute_result"
    }
   ],
   "source": [
    "# 删除特定字符串\n",
    "basic_str.replace(',', '')"
   ]
  },
  {
   "cell_type": "markdown",
   "metadata": {},
   "source": [
    "## 字符串截取"
   ]
  },
  {
   "cell_type": "code",
   "execution_count": 11,
   "metadata": {},
   "outputs": [
    {
     "data": {
      "text/plain": [
       "' he'"
      ]
     },
     "execution_count": 11,
     "metadata": {},
     "output_type": "execute_result"
    }
   ],
   "source": [
    "# 截取\n",
    "# 从左往右index从0开始，可以用index进行切片（左闭右开）\n",
    "basic_str[:3]   # 截取0到3的字符，不包括3"
   ]
  },
  {
   "cell_type": "code",
   "execution_count": 13,
   "metadata": {},
   "outputs": [
    {
     "data": {
      "text/plain": [
       "'ce!'"
      ]
     },
     "execution_count": 13,
     "metadata": {},
     "output_type": "execute_result"
    }
   ],
   "source": [
    "# 从右往左index从-1开始，可以用index进行切片（左闭右开）\n",
    "basic_str[-4: -1]  # 不包括-1的字符"
   ]
  },
  {
   "cell_type": "markdown",
   "metadata": {},
   "source": [
    "## 字符串拼接与分割"
   ]
  },
  {
   "cell_type": "code",
   "execution_count": 14,
   "metadata": {},
   "outputs": [
    {
     "data": {
      "text/plain": [
       "'大家好！吃了没！'"
      ]
     },
     "execution_count": 14,
     "metadata": {},
     "output_type": "execute_result"
    }
   ],
   "source": [
    "str1 = \"大家好！\"\n",
    "str2 = \"吃了没！\"\n",
    "str1 + str2"
   ]
  },
  {
   "cell_type": "code",
   "execution_count": 15,
   "metadata": {},
   "outputs": [
    {
     "data": {
      "text/plain": [
       "'大家好！; 吃了没！; 操作下饭了没！'"
      ]
     },
     "execution_count": 15,
     "metadata": {},
     "output_type": "execute_result"
    }
   ],
   "source": [
    "# 通过join的方式连接\n",
    "# 对于列表中的很多个元素，可使用join函数进行拼接\n",
    "strs = ['大家好！', '吃了没！', '操作下饭了没！']\n",
    "\"; \".join(strs)    # 通过; 拼接"
   ]
  },
  {
   "cell_type": "code",
   "execution_count": 18,
   "metadata": {},
   "outputs": [
    {
     "data": {
      "text/plain": [
       "['大家好', '吃了没', '操作下饭了没', '']"
      ]
     },
     "execution_count": 18,
     "metadata": {},
     "output_type": "execute_result"
    }
   ],
   "source": [
    "# 通过split的方式切分，可以按照特定标识来进行切分\n",
    "tmp_str = \"大家好! 吃了没! 操作下饭了没! \"\n",
    "tmp_str.split(\"! \")    # 根据!所在的位置进行切分"
   ]
  },
  {
   "cell_type": "markdown",
   "metadata": {},
   "source": [
    "## 查找与包含"
   ]
  },
  {
   "cell_type": "code",
   "execution_count": 19,
   "metadata": {},
   "outputs": [
    {
     "data": {
      "text/plain": [
       "12"
      ]
     },
     "execution_count": 19,
     "metadata": {},
     "output_type": "execute_result"
    }
   ],
   "source": [
    "# 查找可以用index和find，会得到子字符串的索引\n",
    "tmp_str = \"大家好! 吃了没! 操作下饭了没! \"\n",
    "tmp_str.index(\"下饭\")"
   ]
  },
  {
   "cell_type": "code",
   "execution_count": 22,
   "metadata": {},
   "outputs": [
    {
     "data": {
      "text/plain": [
       "6"
      ]
     },
     "execution_count": 22,
     "metadata": {},
     "output_type": "execute_result"
    }
   ],
   "source": [
    "# 使用find仅仅找到第一个符合要求的词\n",
    "# 如果需要找出全部子字符串，可以采用正则findall\n",
    "tmp_str.find(\"了\")\n",
    "# tmp_str.find(\"没\")"
   ]
  },
  {
   "cell_type": "code",
   "execution_count": 24,
   "metadata": {},
   "outputs": [
    {
     "name": "stdout",
     "output_type": "stream",
     "text": [
      "-1\n"
     ]
    }
   ],
   "source": [
    "# 查找不存在的子字符串，index会抛出异常，find会返回-1\n",
    "print(tmp_str.find(\"嗨皮\"))\n",
    "# print(tmp_str.index(\"嗨皮\"))"
   ]
  },
  {
   "cell_type": "markdown",
   "metadata": {},
   "source": [
    "## 大小写处理"
   ]
  },
  {
   "cell_type": "code",
   "execution_count": 25,
   "metadata": {},
   "outputs": [],
   "source": [
    "en_str = 'hello, my name is York'"
   ]
  },
  {
   "cell_type": "code",
   "execution_count": 26,
   "metadata": {},
   "outputs": [
    {
     "data": {
      "text/plain": [
       "'hello, my name is york'"
      ]
     },
     "execution_count": 26,
     "metadata": {},
     "output_type": "execute_result"
    }
   ],
   "source": [
    "# 字符串小写\n",
    "en_str.lower()"
   ]
  },
  {
   "cell_type": "code",
   "execution_count": 27,
   "metadata": {},
   "outputs": [
    {
     "data": {
      "text/plain": [
       "'HELLO, MY NAME IS YORK'"
      ]
     },
     "execution_count": 27,
     "metadata": {},
     "output_type": "execute_result"
    }
   ],
   "source": [
    "# 字符串大写\n",
    "en_str.upper()"
   ]
  },
  {
   "cell_type": "code",
   "execution_count": 28,
   "metadata": {},
   "outputs": [
    {
     "data": {
      "text/plain": [
       "'Hello, my name is york'"
      ]
     },
     "execution_count": 28,
     "metadata": {},
     "output_type": "execute_result"
    }
   ],
   "source": [
    "# 字符串首字母大写，其余小写\n",
    "en_str.capitalize()"
   ]
  },
  {
   "cell_type": "markdown",
   "metadata": {},
   "source": [
    "# 正则表达式\n",
    "正则表达式是**处理字符串**的强大工具，拥有独特的语法和独立的处理引擎。\n",
    "\n",
    "我们在大文本中匹配字符串时，有些情况用str自带的函数(比如index, find, in)可能可以完成，有些情况会稍稍复杂一些(比如说找出所有“像邮箱”的字符串，所有和qq/163相关的句子)，这个时候我们需要一个某种模式的工具，这个时候**正则表达式**就派上用场了。<br>\n",
    "\n",
    "自然语言处理的各种模型和算法要发挥作用离不开数据，离不开“干净”的数据，而现实生活中的数据形态和干净程度不一，我们经常要做一些数据清洗和信息抽取的工作，这时候正则表达式就可以发挥及其强大的匹配功能了。说起来，正则表达式是一套引擎，并不是Python语言独有的功能或者工具库，其在面对半结构化的数据时能够达到极佳的预期效果。\n",
    "\n",
    "**正则表达式相关内容可以通过菜鸟教程进行学习** [Python正则表达式](https://www.runoob.com/python/python-reg-expressions.html)\n",
    "\n",
    "**想要练习正则表达式的同学可以通过链接：**[正则表达式练习](https://alf.nu/RegexGolf) 进行练习"
   ]
  },
  {
   "cell_type": "code",
   "execution_count": null,
   "metadata": {},
   "outputs": [],
   "source": []
  }
 ],
 "metadata": {
  "kernelspec": {
   "display_name": "Python 3",
   "language": "python",
   "name": "python3"
  },
  "language_info": {
   "codemirror_mode": {
    "name": "ipython",
    "version": 3
   },
   "file_extension": ".py",
   "mimetype": "text/x-python",
   "name": "python",
   "nbconvert_exporter": "python",
   "pygments_lexer": "ipython3",
   "version": "3.7.0"
  }
 },
 "nbformat": 4,
 "nbformat_minor": 2
}
