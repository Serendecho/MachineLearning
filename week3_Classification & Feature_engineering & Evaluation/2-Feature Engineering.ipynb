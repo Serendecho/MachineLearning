{
 "cells": [
  {
   "cell_type": "markdown",
   "metadata": {},
   "source": [
    "# 使用特征工程对数据进行加工"
   ]
  },
  {
   "cell_type": "code",
   "execution_count": 1,
   "metadata": {},
   "outputs": [
    {
     "data": {
      "text/html": [
       "<img src='E:\\Grade3_1\\智能信息系统（实验）\\week3\\实验三_机器学习与分类课件\\code\\feature_engineering_tree.png', width=500, height=300>"
      ],
      "text/plain": [
       "<IPython.core.display.HTML object>"
      ]
     },
     "metadata": {},
     "output_type": "display_data"
    }
   ],
   "source": [
    "%%html\n",
    "<img src='E:\\Grade3_1\\智能信息系统（实验）\\week3\\实验三_机器学习与分类课件\\code\\feature_engineering_tree.png', width=500, height=300>"
   ]
  },
  {
   "cell_type": "markdown",
   "metadata": {},
   "source": [
    "## 原始数据读取"
   ]
  },
  {
   "cell_type": "code",
   "execution_count": 2,
   "metadata": {},
   "outputs": [
    {
     "name": "stdout",
     "output_type": "stream",
     "text": [
      "鸢尾花数据集特征集的特征向量前十条为：\n",
      " [[5.1 3.5 1.4 0.2]\n",
      " [4.9 3.  1.4 0.2]\n",
      " [4.7 3.2 1.3 0.2]\n",
      " [4.6 3.1 1.5 0.2]\n",
      " [5.  3.6 1.4 0.2]\n",
      " [5.4 3.9 1.7 0.4]\n",
      " [4.6 3.4 1.4 0.3]\n",
      " [5.  3.4 1.5 0.2]\n",
      " [4.4 2.9 1.4 0.2]\n",
      " [4.9 3.1 1.5 0.1]]\n",
      "鸢尾花数据集特征集的标签前十条为：\n",
      " [0 0 0 0 0 0 0 0 0 0]\n"
     ]
    }
   ],
   "source": [
    "import numpy as np\n",
    "from sklearn.datasets import load_iris\n",
    "from sklearn.model_selection import train_test_split  # 用于拆分训练集和测试集\n",
    "from sklearn import preprocessing  # 数据标准化处理\n",
    "from sklearn import svm   # 支持向量机\n",
    "\n",
    "iris_data = load_iris()\n",
    "iris_features = iris_data.data\n",
    "iris_labels = iris_data.target\n",
    "\n",
    "print('鸢尾花数据集特征集的特征向量前十条为：\\n', iris_features[:10])\n",
    "print('鸢尾花数据集特征集的标签前十条为：\\n', iris_labels[:10])"
   ]
  },
  {
   "cell_type": "markdown",
   "metadata": {},
   "source": [
    "# 数据标准化处理\n",
    "在数据集中存在部分值特别大或特别小的情况，以及数据集本身的分布很不规律的情况下，可以采用数据标准化处理，将数据缩放到某一个区间内。主要的方式包括归一化、标准化、区间缩放法等。"
   ]
  },
  {
   "cell_type": "code",
   "execution_count": 3,
   "metadata": {},
   "outputs": [
    {
     "name": "stdout",
     "output_type": "stream",
     "text": [
      "归一化处理转化后的鸢尾花数据集特征集的特征向量前十条为：\n",
      " [[0.22222222 0.625      0.06779661 0.04166667]\n",
      " [0.16666667 0.41666667 0.06779661 0.04166667]\n",
      " [0.11111111 0.5        0.05084746 0.04166667]\n",
      " [0.08333333 0.45833333 0.08474576 0.04166667]\n",
      " [0.19444444 0.66666667 0.06779661 0.04166667]\n",
      " [0.30555556 0.79166667 0.11864407 0.125     ]\n",
      " [0.08333333 0.58333333 0.06779661 0.08333333]\n",
      " [0.19444444 0.58333333 0.08474576 0.04166667]\n",
      " [0.02777778 0.375      0.06779661 0.04166667]\n",
      " [0.16666667 0.45833333 0.08474576 0.        ]]\n"
     ]
    }
   ],
   "source": [
    "# 数据归一化处理，对列进行操作，将数据放缩到一个特定的范围\n",
    "min_max_means = preprocessing.MinMaxScaler()\n",
    "iris_features_min_max = min_max_means.fit_transform(iris_features)\n",
    "\n",
    "print('归一化处理转化后的鸢尾花数据集特征集的特征向量前十条为：\\n', iris_features_min_max[:10])"
   ]
  },
  {
   "cell_type": "code",
   "execution_count": 4,
   "metadata": {},
   "outputs": [
    {
     "name": "stdout",
     "output_type": "stream",
     "text": [
      "标准化处理转化后的鸢尾花数据集特征集的特征向量前十条为：\n",
      " [[-0.90068117  1.03205722 -1.3412724  -1.31297673]\n",
      " [-1.14301691 -0.1249576  -1.3412724  -1.31297673]\n",
      " [-1.38535265  0.33784833 -1.39813811 -1.31297673]\n",
      " [-1.50652052  0.10644536 -1.2844067  -1.31297673]\n",
      " [-1.02184904  1.26346019 -1.3412724  -1.31297673]\n",
      " [-0.53717756  1.95766909 -1.17067529 -1.05003079]\n",
      " [-1.50652052  0.80065426 -1.3412724  -1.18150376]\n",
      " [-1.02184904  0.80065426 -1.2844067  -1.31297673]\n",
      " [-1.74885626 -0.35636057 -1.3412724  -1.31297673]\n",
      " [-1.14301691  0.10644536 -1.2844067  -1.4444497 ]]\n"
     ]
    }
   ],
   "source": [
    "# 数据标准化处理，对列进行操作，将数据放缩到一个特定的范围\n",
    "stand_means = preprocessing.StandardScaler()\n",
    "iris_features_standard = stand_means.fit_transform(iris_features)\n",
    "\n",
    "print('标准化处理转化后的鸢尾花数据集特征集的特征向量前十条为：\\n', iris_features_standard[:10])"
   ]
  },
  {
   "cell_type": "markdown",
   "metadata": {},
   "source": [
    "# 衍生变量"
   ]
  },
  {
   "cell_type": "code",
   "execution_count": 6,
   "metadata": {},
   "outputs": [
    {
     "name": "stdout",
     "output_type": "stream",
     "text": [
      "添加特征后的鸢尾花数据集特征集的特征向量前十条为：\n",
      " [[ 5.1   3.5   1.4   0.2  17.85  0.28]\n",
      " [ 4.9   3.    1.4   0.2  14.7   0.28]\n",
      " [ 4.7   3.2   1.3   0.2  15.04  0.26]\n",
      " [ 4.6   3.1   1.5   0.2  14.26  0.3 ]\n",
      " [ 5.    3.6   1.4   0.2  18.    0.28]\n",
      " [ 5.4   3.9   1.7   0.4  21.06  0.68]\n",
      " [ 4.6   3.4   1.4   0.3  15.64  0.42]\n",
      " [ 5.    3.4   1.5   0.2  17.    0.3 ]\n",
      " [ 4.4   2.9   1.4   0.2  12.76  0.28]\n",
      " [ 4.9   3.1   1.5   0.1  15.19  0.15]]\n"
     ]
    }
   ],
   "source": [
    "# 对花瓣长宽、萼片长宽分别进行加工，构建新的特征（新特征的实验在标准化前的数据集上进行）\n",
    "sepal_area = np.array([iris_features[index][0] * iris_features[index][1] for index in range(len(iris_features))])\n",
    "petal_area = np.array([iris_features[index][2] * iris_features[index][3] for index in range(len(iris_features))])\n",
    "\n",
    "# 将新构建的矩阵进行转置，以和原数据在记录数的形状上相同，方便后续拼接\n",
    "new_features = np.array([sepal_area, petal_area]).T\n",
    "\n",
    "iris_features_added_new = np.column_stack((iris_features, new_features))\n",
    "print('添加特征后的鸢尾花数据集特征集的特征向量前十条为：\\n', iris_features_added_new[:10])"
   ]
  },
  {
   "cell_type": "markdown",
   "metadata": {},
   "source": [
    "### 使用新创建特征的特征集合与后构建的特征集合，分别构建svm分类器，验证特征工程的效果"
   ]
  },
  {
   "cell_type": "code",
   "execution_count": 8,
   "metadata": {},
   "outputs": [
    {
     "data": {
      "text/plain": [
       "SVC(C=1.0, cache_size=200, class_weight=None, coef0=0.0,\n",
       "  decision_function_shape='ovr', degree=3, gamma=0.01, kernel='rbf',\n",
       "  max_iter=-1, probability=False, random_state=None, shrinking=True,\n",
       "  tol=0.001, verbose=False)"
      ]
     },
     "execution_count": 8,
     "metadata": {},
     "output_type": "execute_result"
    }
   ],
   "source": [
    "X_train, X_test, Y_train, Y_test = train_test_split(iris_features, iris_labels, test_size = 0.3, random_state = 21)\n",
    "\n",
    "# 训练模型\n",
    "svm_classifier = svm.SVC(C=1.0, kernel='rbf', decision_function_shape='ovr', gamma=0.01)\n",
    "svm_classifier.fit(X_train, Y_train)"
   ]
  },
  {
   "cell_type": "code",
   "execution_count": 9,
   "metadata": {},
   "outputs": [
    {
     "name": "stdout",
     "output_type": "stream",
     "text": [
      "基础数据特征条件下的SVM训练集得分为： 0.9714285714285714\n",
      "基础数据特征条件下的SVM测试集得分为： 0.8888888888888888\n"
     ]
    }
   ],
   "source": [
    "print('基础数据特征条件下的SVM训练集得分为：', svm_classifier.score(X_train, Y_train))\n",
    "print('基础数据特征条件下的SVM测试集得分为：', svm_classifier.score(X_test, Y_test))"
   ]
  },
  {
   "cell_type": "code",
   "execution_count": 10,
   "metadata": {},
   "outputs": [
    {
     "data": {
      "text/plain": [
       "SVC(C=1.0, cache_size=200, class_weight=None, coef0=0.0,\n",
       "  decision_function_shape='ovr', degree=3, gamma=0.01, kernel='rbf',\n",
       "  max_iter=-1, probability=False, random_state=None, shrinking=True,\n",
       "  tol=0.001, verbose=False)"
      ]
     },
     "execution_count": 10,
     "metadata": {},
     "output_type": "execute_result"
    }
   ],
   "source": [
    "X_train, X_test, Y_train, Y_test = train_test_split(iris_features_added_new,\\\n",
    "                                                   iris_labels,\\\n",
    "                                                   test_size=0.3,\\\n",
    "                                                   random_state=21)\n",
    "# 训练模型\n",
    "svm_classifier = svm.SVC(C=1.0, kernel='rbf', decision_function_shape='ovr', gamma=0.01)\n",
    "svm_classifier.fit(X_train, Y_train)"
   ]
  },
  {
   "cell_type": "code",
   "execution_count": 11,
   "metadata": {},
   "outputs": [
    {
     "name": "stdout",
     "output_type": "stream",
     "text": [
      "添加新特征后的SVM训练集得分为： 0.9619047619047619\n",
      "添加新特征后的SVM测试集得分为： 0.9333333333333333\n"
     ]
    }
   ],
   "source": [
    "print(\"添加新特征后的SVM训练集得分为：\", svm_classifier.score(X_train, Y_train))\n",
    "print(\"添加新特征后的SVM测试集得分为：\", svm_classifier.score(X_test, Y_test))"
   ]
  },
  {
   "cell_type": "code",
   "execution_count": null,
   "metadata": {},
   "outputs": [],
   "source": []
  }
 ],
 "metadata": {
  "kernelspec": {
   "display_name": "Python 3",
   "language": "python",
   "name": "python3"
  },
  "language_info": {
   "codemirror_mode": {
    "name": "ipython",
    "version": 3
   },
   "file_extension": ".py",
   "mimetype": "text/x-python",
   "name": "python",
   "nbconvert_exporter": "python",
   "pygments_lexer": "ipython3",
   "version": "3.7.0"
  }
 },
 "nbformat": 4,
 "nbformat_minor": 2
}
