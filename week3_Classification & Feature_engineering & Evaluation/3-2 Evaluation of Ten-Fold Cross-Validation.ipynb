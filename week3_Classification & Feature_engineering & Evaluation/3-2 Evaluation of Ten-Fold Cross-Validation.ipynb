{
 "cells": [
  {
   "cell_type": "markdown",
   "metadata": {},
   "source": [
    "# 综合应用特征工程、分类器调参、K折交叉验证构建分类器"
   ]
  },
  {
   "cell_type": "markdown",
   "metadata": {},
   "source": [
    "## 导入数据"
   ]
  },
  {
   "cell_type": "code",
   "execution_count": 3,
   "metadata": {},
   "outputs": [
    {
     "name": "stdout",
     "output_type": "stream",
     "text": [
      "鸢尾花数据集特征集的特征向量前十条为：\n",
      " [[5.1 3.5 1.4 0.2]\n",
      " [4.9 3.  1.4 0.2]\n",
      " [4.7 3.2 1.3 0.2]\n",
      " [4.6 3.1 1.5 0.2]\n",
      " [5.  3.6 1.4 0.2]\n",
      " [5.4 3.9 1.7 0.4]\n",
      " [4.6 3.4 1.4 0.3]\n",
      " [5.  3.4 1.5 0.2]\n",
      " [4.4 2.9 1.4 0.2]\n",
      " [4.9 3.1 1.5 0.1]]\n",
      "鸢尾花数据集特征集的标签前十条为：\n",
      " [0 0 0 0 0 0 0 0 0 0]\n"
     ]
    }
   ],
   "source": [
    "import numpy as np\n",
    "from sklearn.datasets import load_iris\n",
    "from sklearn.model_selection import KFold    # 使用十折交叉运算进行训练集和测试集的拆分\n",
    "from sklearn import svm     # 支持向量机\n",
    "\n",
    "iris_data = load_iris()\n",
    "iris_features = iris_data.data\n",
    "iris_labels = iris_data.target\n",
    "\n",
    "print('鸢尾花数据集特征集的特征向量前十条为：\\n', iris_features[:10])\n",
    "print('鸢尾花数据集特征集的标签前十条为：\\n', iris_labels[:10])"
   ]
  },
  {
   "cell_type": "markdown",
   "metadata": {},
   "source": [
    "## 采用衍生变量的方法为数据集构建新特征"
   ]
  },
  {
   "cell_type": "code",
   "execution_count": 4,
   "metadata": {},
   "outputs": [
    {
     "name": "stdout",
     "output_type": "stream",
     "text": [
      "添加新特征后的鸢尾花数据集特征集的特征向量前十条为：\n",
      " [[ 5.1   3.5   1.4   0.2  17.85  0.28]\n",
      " [ 4.9   3.    1.4   0.2  14.7   0.28]\n",
      " [ 4.7   3.2   1.3   0.2  15.04  0.26]\n",
      " [ 4.6   3.1   1.5   0.2  14.26  0.3 ]\n",
      " [ 5.    3.6   1.4   0.2  18.    0.28]\n",
      " [ 5.4   3.9   1.7   0.4  21.06  0.68]\n",
      " [ 4.6   3.4   1.4   0.3  15.64  0.42]\n",
      " [ 5.    3.4   1.5   0.2  17.    0.3 ]\n",
      " [ 4.4   2.9   1.4   0.2  12.76  0.28]\n",
      " [ 4.9   3.1   1.5   0.1  15.19  0.15]]\n"
     ]
    }
   ],
   "source": [
    "# 对花瓣长宽、萼片长宽分别进行加工，构建新的特征（新特征的实验在标准化前的数据集上进行）\n",
    "sepal_area = np.array([iris_features[index][0] * iris_features[index][1] for index in range(len(iris_features))])\n",
    "petal_area = np.array([iris_features[index][2] * iris_features[index][3] for index in range(len(iris_features))])\n",
    "\n",
    "# 将新构建的矩阵进行转置，以和原数据在记录数的形状上相同，方便后续拼接\n",
    "new_features = np.array([sepal_area, petal_area]).T\n",
    "\n",
    "iris_features_added_new = np.column_stack((iris_features, new_features)) \n",
    "\n",
    "print('添加新特征后的鸢尾花数据集特征集的特征向量前十条为：\\n', iris_features_added_new[:10])"
   ]
  },
  {
   "cell_type": "markdown",
   "metadata": {},
   "source": [
    "## 构建K折交叉检验模型"
   ]
  },
  {
   "cell_type": "code",
   "execution_count": 6,
   "metadata": {},
   "outputs": [
    {
     "name": "stdout",
     "output_type": "stream",
     "text": [
      "1 本轮基础数据特征测试集得分为： 0.9\n",
      "1 本轮特征工程后的数据特征测试集得分为： 0.9333333333333333\n",
      "**************************************************\n",
      "2 本轮基础数据特征测试集得分为： 0.9333333333333333\n",
      "2 本轮特征工程后的数据特征测试集得分为： 0.8666666666666667\n",
      "**************************************************\n",
      "3 本轮基础数据特征测试集得分为： 0.8666666666666667\n",
      "3 本轮特征工程后的数据特征测试集得分为： 0.9666666666666667\n",
      "**************************************************\n",
      "4 本轮基础数据特征测试集得分为： 1.0\n",
      "4 本轮特征工程后的数据特征测试集得分为： 1.0\n",
      "**************************************************\n",
      "5 本轮基础数据特征测试集得分为： 0.9666666666666667\n",
      "5 本轮特征工程后的数据特征测试集得分为： 1.0\n",
      "**************************************************\n",
      "基础数据特征下的K折交叉验证SVM测试集平均得分： 0.9333333333333333\n",
      "特征工程后的K折交叉验证SVM测试集平均得分为： 0.9533333333333334\n"
     ]
    }
   ],
   "source": [
    "# 构建5折交叉检验模型\n",
    "kf = KFold(n_splits = 5, shuffle = True)\n",
    "\n",
    "test_score_basic_data = []\n",
    "test_score_feature_engineered_data = []\n",
    "\n",
    "counter = 1\n",
    "\n",
    "# 分别对每一次K折交叉检验所提供的数据进行分类器构建及分类\n",
    "for train_index, test_index in kf.split(iris_features):\n",
    "    X_train_basic, X_test_basic, Y_train_basic, Y_test_basic = iris_features[train_index],\\\n",
    "                                                               iris_features[test_index],\\\n",
    "                                                               iris_labels[train_index],\\\n",
    "                                                               iris_labels[test_index]\n",
    "    X_train_new, X_test_new, Y_train_new, Y_test_new = iris_features_added_new[train_index],\\\n",
    "                                                       iris_features_added_new[test_index],\\\n",
    "                                                       iris_labels[train_index],\\\n",
    "                                                       iris_labels[test_index]\n",
    "    \n",
    "    # 训练模型（未加入新特征）\n",
    "    svm_classifier_basic = svm.SVC(C=1.0, kernel = 'rbf', decision_function_shape = 'ovr', gamma = 0.01)\n",
    "    svm_classifier_basic.fit(X_train_basic, Y_train_basic)\n",
    "    \n",
    "    # 训练模型（加入新特征）\n",
    "    svm_classifier_new = svm.SVC(C=1.0, kernel = 'rbf', decision_function_shape = 'ovr', gamma = 0.01)\n",
    "    svm_classifier_new.fit(X_train_new, Y_train_new)\n",
    "    \n",
    "    print(str(counter), '本轮基础数据特征测试集得分为：', svm_classifier_basic.score(X_test_basic, Y_test_basic))\n",
    "    test_score_basic_data.append(svm_classifier_basic.score(X_test_basic, Y_test_basic))\n",
    "    \n",
    "    print(str(counter), '本轮特征工程后的数据特征测试集得分为：', svm_classifier_new.score(X_test_new, Y_test_new))\n",
    "    test_score_feature_engineered_data.append(svm_classifier_new.score(X_test_new, Y_test_new))\n",
    "    \n",
    "    counter += 1\n",
    "    print(\"*\" * 50)\n",
    "    \n",
    "print(\"基础数据特征下的K折交叉验证SVM测试集平均得分：\", np.mean(test_score_basic_data))\n",
    "print(\"特征工程后的K折交叉验证SVM测试集平均得分为：\", np.mean(test_score_feature_engineered_data))"
   ]
  },
  {
   "cell_type": "code",
   "execution_count": null,
   "metadata": {},
   "outputs": [],
   "source": []
  }
 ],
 "metadata": {
  "kernelspec": {
   "display_name": "Python 3",
   "language": "python",
   "name": "python3"
  },
  "language_info": {
   "codemirror_mode": {
    "name": "ipython",
    "version": 3
   },
   "file_extension": ".py",
   "mimetype": "text/x-python",
   "name": "python",
   "nbconvert_exporter": "python",
   "pygments_lexer": "ipython3",
   "version": "3.7.0"
  }
 },
 "nbformat": 4,
 "nbformat_minor": 2
}
