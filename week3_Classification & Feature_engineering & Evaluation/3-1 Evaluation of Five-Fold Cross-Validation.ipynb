{
 "cells": [
  {
   "cell_type": "markdown",
   "metadata": {},
   "source": [
    "# 使用K折交叉运算对模型效果进行验证\n",
    "K折交叉验证，英文名叫做K-fold cross-validation，用来测试算法准确性。是常用的测试方法。将数据集分成K份，轮流将其中K-1份作为训练数据，1份作为测试数据，进行试验。每次试验都会得出相应的正确率（或差错率）。K次的结果的正确率（或差错率）的平均值作为对算法精度的估计。"
   ]
  },
  {
   "cell_type": "code",
   "execution_count": 1,
   "metadata": {},
   "outputs": [
    {
     "name": "stdout",
     "output_type": "stream",
     "text": [
      "鸢尾花数据集特征集的特征向量前十条为：\n",
      " [[5.1 3.5 1.4 0.2]\n",
      " [4.9 3.  1.4 0.2]\n",
      " [4.7 3.2 1.3 0.2]\n",
      " [4.6 3.1 1.5 0.2]\n",
      " [5.  3.6 1.4 0.2]\n",
      " [5.4 3.9 1.7 0.4]\n",
      " [4.6 3.4 1.4 0.3]\n",
      " [5.  3.4 1.5 0.2]\n",
      " [4.4 2.9 1.4 0.2]\n",
      " [4.9 3.1 1.5 0.1]]\n",
      "鸢尾花数据集特征集的标签前十条为：\n",
      " [0 0 0 0 0 0 0 0 0 0]\n"
     ]
    }
   ],
   "source": [
    "import numpy as np\n",
    "from sklearn.datasets import load_iris\n",
    "from sklearn.model_selection import KFold     # 使用K折交叉运算进行训练集与测试集的拆分\n",
    "from sklearn import svm     # 支持向量机\n",
    "\n",
    "iris_data = load_iris()\n",
    "iris_features = iris_data.data\n",
    "iris_labels = iris_data.target\n",
    "\n",
    "print('鸢尾花数据集特征集的特征向量前十条为：\\n', iris_features[:10])\n",
    "print('鸢尾花数据集特征集的标签前十条为：\\n', iris_labels[:10])"
   ]
  },
  {
   "cell_type": "code",
   "execution_count": 3,
   "metadata": {},
   "outputs": [
    {
     "name": "stdout",
     "output_type": "stream",
     "text": [
      "1 本轮测试集得分为： 0.9\n",
      "**************************************************\n",
      "2 本轮测试集得分为： 0.9666666666666667\n",
      "**************************************************\n",
      "3 本轮测试集得分为： 1.0\n",
      "**************************************************\n",
      "4 本轮测试集得分为： 0.9\n",
      "**************************************************\n",
      "5 本轮测试集得分为： 0.8333333333333334\n",
      "**************************************************\n",
      "平均得分为： 0.9199999999999999\n"
     ]
    }
   ],
   "source": [
    "# 本实验因数据集较小，采用五折交叉验证\n",
    "kf = KFold(n_splits = 5, shuffle = True)\n",
    "\n",
    "test_score = []\n",
    "counter = 1\n",
    "for train_index, test_index in kf.split(iris_features):\n",
    "    X_train, X_test, Y_train, Y_test = iris_features[train_index],\\\n",
    "                                       iris_features[test_index],\\\n",
    "                                       iris_labels[train_index],\\\n",
    "                                       iris_labels[test_index]\n",
    "    \n",
    "    # 训练模型\n",
    "    svm_classifier = svm.SVC(C=1.0, kernel = 'rbf', decision_function_shape='ovr', gamma=0.01)\n",
    "    svm_classifier.fit(X_train, Y_train)\n",
    "    \n",
    "    print(str(counter), '本轮测试集得分为：', svm_classifier.score(X_test, Y_test))\n",
    "    test_score.append(svm_classifier.score(X_test, Y_test))\n",
    "    counter += 1\n",
    "    print(\"*\" * 50)\n",
    "    \n",
    "print(\"平均得分为：\", np.mean(test_score))"
   ]
  },
  {
   "cell_type": "code",
   "execution_count": null,
   "metadata": {},
   "outputs": [],
   "source": []
  }
 ],
 "metadata": {
  "kernelspec": {
   "display_name": "Python 3",
   "language": "python",
   "name": "python3"
  },
  "language_info": {
   "codemirror_mode": {
    "name": "ipython",
    "version": 3
   },
   "file_extension": ".py",
   "mimetype": "text/x-python",
   "name": "python",
   "nbconvert_exporter": "python",
   "pygments_lexer": "ipython3",
   "version": "3.7.0"
  }
 },
 "nbformat": 4,
 "nbformat_minor": 2
}
