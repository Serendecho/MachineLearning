{
 "cells": [
  {
   "cell_type": "markdown",
   "metadata": {},
   "source": [
    "# 深度学习进行词性标注（BGRU）"
   ]
  },
  {
   "cell_type": "markdown",
   "metadata": {},
   "source": [
    "## 1. 导入数据集"
   ]
  },
  {
   "cell_type": "code",
   "execution_count": 1,
   "metadata": {},
   "outputs": [],
   "source": [
    "from gensim.models import Word2Vec\n",
    "import pandas as pd\n",
    "import numpy as np\n",
    "import gensim\n",
    "\n",
    "# 训练集和测试集的地址\n",
    "train_data = '../week7&8_NLP & POS tagging/data/ctb5.1-pos/train.tsv'\n",
    "test_data = '../week7&8_NLP & POS tagging/data/ctb5.1-pos/test.tsv'"
   ]
  },
  {
   "cell_type": "markdown",
   "metadata": {},
   "source": [
    "## 2. 数据读取函数"
   ]
  },
  {
   "cell_type": "code",
   "execution_count": 2,
   "metadata": {},
   "outputs": [],
   "source": [
    "# 读取数据集，并提取出其中的文本部分和标签部分\n",
    "def get_data(file_path):\n",
    "    data = pd.read_csv(file_path, sep='\\t', \n",
    "                       skip_blank_lines=False, \n",
    "                       header=None,\n",
    "                      )\n",
    "    \n",
    "    # 取出文本部分\n",
    "    content = data[0]\n",
    "    \n",
    "    # 取出标签部分\n",
    "    label = data[1]\n",
    "    \n",
    "    return content, label"
   ]
  },
  {
   "cell_type": "code",
   "execution_count": 3,
   "metadata": {},
   "outputs": [],
   "source": [
    "# 使用get_data函数获取训练集和测试集的文本和标签\n",
    "X_train, y_train = get_data(train_data)\n",
    "X_test, y_test = get_data(test_data)"
   ]
  },
  {
   "cell_type": "markdown",
   "metadata": {},
   "source": [
    "## 3. 数据预处理与格式转化"
   ]
  },
  {
   "cell_type": "code",
   "execution_count": 4,
   "metadata": {},
   "outputs": [
    {
     "name": "stdout",
     "output_type": "stream",
     "text": [
      "训练集和测试集的总标签类别数len(labels_types)为：36\n",
      "标签类型列表为：\n",
      " [nan, 'AS', 'M', 'P', 'BA', 'NT', 'PU', 'CS', 'AD', 'OD', 'VP', 'DER', 'NN', 'NP', 'CD', 'PN', 'MSP', 'CC', 'DT', 'SP', 'FW', 'IJ', 'ETC', 'LB', 'SB', 'DEV', 'DEC', 'NR', 'LC', 'VE', 'DEG', 'VC', 'JJ', 'VV', 'X', 'VA']\n",
      "\n",
      "训练集和测试集的总标签数len(labels)为：520125\n",
      "\n",
      "标签字典的对象数len(labels_dict)为：36\n",
      "标签频次字典内容labels_dict为：\n",
      " {nan: 18426, 'AS': 4118, 'M': 13790, 'P': 17606, 'BA': 755, 'NT': 9659, 'PU': 76753, 'CS': 892, 'AD': 36430, 'OD': 1675, 'VP': 1, 'DER': 258, 'NN': 136643, 'NP': 5, 'CD': 16182, 'PN': 6644, 'MSP': 1336, 'CC': 7355, 'DT': 5986, 'SP': 468, 'FW': 33, 'IJ': 12, 'ETC': 1303, 'LB': 245, 'SB': 455, 'DEV': 634, 'DEC': 12510, 'NR': 30570, 'LC': 7782, 'VE': 3005, 'DEG': 12337, 'VC': 5404, 'JJ': 13234, 'VV': 69858, 'X': 6, 'VA': 7755}\n",
      "\n",
      "标签索引字典内容labels_index为：\n",
      " {'padded_label': 0, nan: 1, 'AS': 2, 'M': 3, 'P': 4, 'BA': 5, 'NT': 6, 'PU': 7, 'CS': 8, 'AD': 9, 'OD': 10, 'VP': 11, 'DER': 12, 'NN': 13, 'NP': 14, 'CD': 15, 'PN': 16, 'MSP': 17, 'CC': 18, 'DT': 19, 'SP': 20, 'FW': 21, 'IJ': 22, 'ETC': 23, 'LB': 24, 'SB': 25, 'DEV': 26, 'DEC': 27, 'NR': 28, 'LC': 29, 'VE': 30, 'DEG': 31, 'VC': 32, 'JJ': 33, 'VV': 34, 'X': 35, 'VA': 36}\n"
     ]
    }
   ],
   "source": [
    "## 构建标签字典\n",
    "# 合并训练集和测试集的标签\n",
    "labels = y_train.tolist() + y_test.tolist()\n",
    "# 利用集合进行去重，再转化为列表格式，获得标签类型列表\n",
    "labels_types = list(set(labels))\n",
    "print(\"训练集和测试集的总标签类别数len(labels_types)为：\" + str(len(labels_types)))\n",
    "print(\"标签类型列表为：\\n\", labels_types)\n",
    "\n",
    "# 构建标签频次字典（标签：该标签出现次数）\n",
    "labels_dict = {}\n",
    "\n",
    "# 构建标签索引字典（标签： 该标签的索引）\n",
    "# 加入{\"padded_label\" : 0}降低损失率\n",
    "labels_index = {\"padded_label\" : 0}\n",
    "\n",
    "for index in range(len(labels_types)):\n",
    "    # 根据标签类别列表通过索引获取标签\n",
    "    label = labels_types[index]\n",
    "    # 更新标签频次字典\n",
    "    labels_dict.update({label: labels.count(label)}) \n",
    "    # 更新标签索引字典\n",
    "    labels_index.update({label: index+1}) \n",
    "    \n",
    "print(\"\\n训练集和测试集的总标签数len(labels)为：\" + str(len(labels)))\n",
    "\n",
    "# 输出构建好的标签频次字典\n",
    "print(\"\\n标签字典的对象数len(labels_dict)为：\" + str(len(labels_dict)))\n",
    "print(\"标签频次字典内容labels_dict为：\\n\", labels_dict)\n",
    "\n",
    "# 输出构建好的标签索引字典\n",
    "print(\"\\n标签索引字典内容labels_index为：\\n\", labels_index)"
   ]
  },
  {
   "cell_type": "code",
   "execution_count": 5,
   "metadata": {},
   "outputs": [],
   "source": [
    "# 保存labels_index字典\n",
    "np.save('labels_index.npy', labels_index)"
   ]
  },
  {
   "cell_type": "code",
   "execution_count": 6,
   "metadata": {},
   "outputs": [
    {
     "name": "stdout",
     "output_type": "stream",
     "text": [
      "训练集中按句进行拆分后的句子为：\n",
      " [array(['上海', '浦东', '开发', '与', '法制', '建设', '同步'], dtype=object), array(['新华社', '上海', '二月', '十日', '电', '（', '记者', '谢金虎', '、', '张持坚', '）'],\n",
      "      dtype=object), array(['上海', '浦东', '近年', '来', '颁布', '实行', '了', '涉及', '经济', '、', '贸易', '、',\n",
      "       '建设', '、', '规划', '、', '科技', '、', '文教', '等', '领域', '的', '七十一', '件',\n",
      "       '法规性', '文件', '，', '确保', '了', '浦东', '开发', '的', '有序', '进行', '。'],\n",
      "      dtype=object), array(['浦东', '开发', '开放', '是', '一', '项', '振兴', '上海', '，', '建设', '现代化',\n",
      "       '经济', '、', '贸易', '、', '金融', '中心', '的', '跨世纪', '工程', '，', '因此',\n",
      "       '大量', '出现', '的', '是', '以前', '不', '曾', '遇到', '过', '的', '新', '情况',\n",
      "       '、', '新', '问题', '。'], dtype=object), array(['对', '此', '，', '浦东', '不', '是', '简单', '的', '采取', '“', '干', '一', '段',\n",
      "       '时间', '，', '等', '积累', '了', '经验', '以后', '再', '制定', '法规', '条例', '”',\n",
      "       '的', '做法', '，', '而', '是', '借鉴', '发达', '国家', '和', '深圳', '等', '特区',\n",
      "       '的', '经验', '教训', '，', '聘请', '国内外', '有关', '专家', '学者', '，', '积极',\n",
      "       '、', '及时', '地', '制定', '和', '推出', '法规性', '文件', '，', '使', '这些', '经济',\n",
      "       '活动', '一', '出现', '就', '被', '纳入', '法制', '轨道', '。'], dtype=object)]\n",
      "\n",
      "训练集中按句进行拆分后的句子所对应的词性为：\n",
      " [array(['NR', 'NR', 'NN', 'CC', 'NN', 'NN', 'VV'], dtype=object), array(['NN', 'NR', 'NT', 'NT', 'NN', 'PU', 'NN', 'NR', 'PU', 'NR', 'PU'],\n",
      "      dtype=object), array(['NR', 'NR', 'NT', 'LC', 'VV', 'VV', 'AS', 'VV', 'NN', 'PU', 'NN',\n",
      "       'PU', 'NN', 'PU', 'NN', 'PU', 'NN', 'PU', 'NN', 'ETC', 'NN', 'DEC',\n",
      "       'CD', 'M', 'NN', 'NN', 'PU', 'VV', 'AS', 'NR', 'NN', 'DEG', 'JJ',\n",
      "       'NN', 'PU'], dtype=object), array(['NR', 'NN', 'NN', 'VC', 'CD', 'M', 'VV', 'NR', 'PU', 'VV', 'NN',\n",
      "       'NN', 'PU', 'NN', 'PU', 'NN', 'NN', 'DEC', 'JJ', 'NN', 'PU', 'AD',\n",
      "       'AD', 'VV', 'DEC', 'VC', 'NT', 'AD', 'AD', 'VV', 'AS', 'DEC', 'JJ',\n",
      "       'NN', 'PU', 'JJ', 'NN', 'PU'], dtype=object), array(['P', 'PN', 'PU', 'NR', 'AD', 'VC', 'VA', 'DEV', 'VV', 'PU', 'VV',\n",
      "       'CD', 'M', 'NN', 'PU', 'P', 'VV', 'AS', 'NN', 'LC', 'AD', 'VV',\n",
      "       'NN', 'NN', 'PU', 'DEC', 'NN', 'PU', 'CC', 'VC', 'VV', 'JJ', 'NN',\n",
      "       'CC', 'NR', 'ETC', 'NN', 'DEG', 'NN', 'NN', 'PU', 'VV', 'NN', 'JJ',\n",
      "       'NN', 'NN', 'PU', 'AD', 'PU', 'AD', 'DEV', 'VV', 'CC', 'VV', 'NN',\n",
      "       'NN', 'PU', 'VV', 'DT', 'NN', 'NN', 'AD', 'VV', 'AD', 'SB', 'VV',\n",
      "       'NN', 'NN', 'PU'], dtype=object)]\n"
     ]
    }
   ],
   "source": [
    "# 按句子对X、y进行拆分\n",
    "def split_corpus_by_sentence(content):\n",
    "    cleaned_sentence = []\n",
    "    split_label = content.isnull() # 用来判断是否有缺失值，返回布尔值\n",
    "    last_split_index = 0\n",
    "    index = 0\n",
    "    \n",
    "    while index < len(content):\n",
    "        current_word = content[index]\n",
    "        # 如果有缺失值且cleaned_sentence列表中无内容\n",
    "        if split_label[index] == True and len(cleaned_sentence) == 0:\n",
    "            # 添加content列表中从索引last_split_index到index的内容到cleaned_sentence\n",
    "            cleaned_sentence.append(np.array(content[last_split_index: index]))\n",
    "            last_split_index = index + 1\n",
    "            index += 1\n",
    "            \n",
    "        # 如果有缺失值且cleaned_sentence列表中有内容\n",
    "        elif split_label[index] == True and len(cleaned_sentence) > 0:\n",
    "            cleaned_sentence.append(np.array(content[last_split_index: index]))\n",
    "            last_split_index = index + 1\n",
    "            index += 1\n",
    "            \n",
    "        else:\n",
    "            index += 1\n",
    "    return cleaned_sentence\n",
    "\n",
    "# 利用上述函数按句子拆分训练集和测试集的文本和标签\n",
    "X_train_sent_split = split_corpus_by_sentence(X_train)\n",
    "y_train_sent_split = split_corpus_by_sentence(y_train)\n",
    "X_test_sent_split = split_corpus_by_sentence(X_test)\n",
    "y_test_sent_split = split_corpus_by_sentence(y_test)\n",
    "\n",
    "print('训练集中按句进行拆分后的句子为：\\n', X_train_sent_split[:5])\n",
    "print('\\n训练集中按句进行拆分后的句子所对应的词性为：\\n', y_train_sent_split[:5])"
   ]
  },
  {
   "cell_type": "code",
   "execution_count": 7,
   "metadata": {},
   "outputs": [
    {
     "name": "stdout",
     "output_type": "stream",
     "text": [
      "训练集中的标签转换为索引对应为：\n",
      " [[27, 27, 12, 17, 12, 12, 33], [12, 27, 5, 5, 12, 6, 12, 27, 6, 27, 6], [27, 27, 5, 28, 33, 33, 1, 33, 12, 6, 12, 6, 12, 6, 12, 6, 12, 6, 12, 22, 12, 26, 14, 2, 12, 12, 6, 33, 1, 27, 12, 30, 32, 12, 6], [27, 12, 12, 31, 14, 2, 33, 27, 6, 33, 12, 12, 6, 12, 6, 12, 12, 26, 32, 12, 6, 8, 8, 33, 26, 31, 5, 8, 8, 33, 1, 26, 32, 12, 6, 32, 12, 6], [3, 15, 6, 27, 8, 31, 35, 25, 33, 6, 33, 14, 2, 12, 6, 3, 33, 1, 12, 28, 8, 33, 12, 12, 6, 26, 12, 6, 17, 31, 33, 32, 12, 17, 27, 22, 12, 30, 12, 12, 6, 33, 12, 32, 12, 12, 6, 8, 6, 8, 25, 33, 17, 33, 12, 12, 6, 33, 18, 12, 12, 8, 33, 8, 24, 33, 12, 12, 6]]\n",
      "\n",
      "测试集中的标签转换为索引对应为：\n",
      " [[27, 27, 3, 27, 33, 32, 12, 12, 12], [27, 27, 5, 5, 12, 6, 12, 27, 6, 27, 6], [6, 27, 27, 12, 32, 12, 12, 12, 12, 6, 5, 3, 27, 33, 6], [5, 3, 15, 33, 26, 31, 12, 12, 12, 12, 12, 17, 12, 12, 12, 14, 2, 12, 6, 8, 8, 33, 1, 12, 12, 12, 12, 12, 6], [18, 14, 2, 12, 31, 8, 3, 12, 12, 12, 12, 12, 12, 12, 12, 27, 12, 17, 27, 27, 32, 12, 12, 6, 3, 27, 12, 12, 12, 12, 6, 12, 12, 12, 6, 27, 12, 33, 26, 6]]\n"
     ]
    }
   ],
   "source": [
    "# 根据之前构建的标签字典将标签文本转换为索引\n",
    "def transfer_label_category_index(origin_labels, labels_types):\n",
    "    transfered_label = []\n",
    "    for sentence_labels in origin_labels:\n",
    "        # 将标签依据字典转换为序号\n",
    "        labels_format_index = [labels_types.index(label) for label in sentence_labels]\n",
    "        transfered_label.append(labels_format_index)\n",
    "    return transfered_label\n",
    "\n",
    "# 利用上述函数将训练集和测试集的标签转换为索引\n",
    "y_train_index = transfer_label_category_index(y_train_sent_split, labels_types)\n",
    "y_test_index = transfer_label_category_index(y_test_sent_split, labels_types)\n",
    "\n",
    "print('训练集中的标签转换为索引对应为：\\n', y_train_index[:5])\n",
    "print('\\n测试集中的标签转换为索引对应为：\\n', y_test_index[:5])"
   ]
  },
  {
   "cell_type": "code",
   "execution_count": 8,
   "metadata": {},
   "outputs": [
    {
     "name": "stdout",
     "output_type": "stream",
     "text": [
      "训练集中填充的张量为：\n",
      " [[[0. 0. 0. ... 0. 0. 0.]\n",
      "  [0. 0. 0. ... 0. 0. 0.]\n",
      "  [0. 0. 0. ... 0. 0. 0.]\n",
      "  ...\n",
      "  [1. 0. 0. ... 0. 0. 0.]\n",
      "  [1. 0. 0. ... 0. 0. 0.]\n",
      "  [1. 0. 0. ... 0. 0. 0.]]]\n",
      "\n",
      "测试集中填充的张量为：\n",
      " [[[0. 0. 0. ... 0. 0. 0.]\n",
      "  [0. 0. 0. ... 0. 0. 0.]\n",
      "  [0. 0. 0. ... 0. 0. 0.]\n",
      "  ...\n",
      "  [1. 0. 0. ... 0. 0. 0.]\n",
      "  [1. 0. 0. ... 0. 0. 0.]\n",
      "  [1. 0. 0. ... 0. 0. 0.]]]\n"
     ]
    }
   ],
   "source": [
    "# 设置句子的最大长度为100\n",
    "MAX_SEQUENCE_LENGTH = 100\n",
    "\n",
    "## 进行标签格式转化\n",
    "# 利用zeros(shape, dtype=float, order='C')构建张量，值全为0\n",
    "# 形状shape对应（标签样本数，句子长度，标签类别数）\n",
    "y_train_index_padded = np.zeros((len(y_train_index), MAX_SEQUENCE_LENGTH, len(labels_types)+1), # 形状 \n",
    "                                dtype='float', # 数据类型 \n",
    "                                order='C',     # c代表与c语言类似，行优先\n",
    "                               )\n",
    "y_test_index_padded = np.zeros((len(y_test_index), MAX_SEQUENCE_LENGTH, len(labels_types)+1), # 形状 \n",
    "                              dtype='float', # 数据类型 \n",
    "                              order='C',     # c代表与c语言类似，行优先\n",
    "                              )\n",
    "\n",
    "''' \n",
    "填充张量\n",
    "嵌套循环遍历：先句子后词\n",
    "'''\n",
    "# 训练集\n",
    "for sentence_labels_index in range(len(y_train_index)):\n",
    "    for label_index in range(len(y_train_index[sentence_labels_index])):\n",
    "        if label_index < MAX_SEQUENCE_LENGTH:\n",
    "            y_train_index_padded[sentence_labels_index, label_index, y_train_index[sentence_labels_index][label_index]+1] = 1\n",
    "    # 优化：若为填充的标签，则将其预测为第一位为1        \n",
    "    if len(y_train_index[sentence_labels_index]) < MAX_SEQUENCE_LENGTH:\n",
    "        for label_index in range(len(y_train_index[sentence_labels_index]), MAX_SEQUENCE_LENGTH):\n",
    "            y_train_index_padded[sentence_labels_index, label_index, 0] = 1\n",
    "\n",
    "# 测试集      \n",
    "for sentence_labels_index in range(len(y_test_index)):\n",
    "    for label_index in range(len(y_test_index[sentence_labels_index])):\n",
    "        if label_index < MAX_SEQUENCE_LENGTH:\n",
    "            y_test_index_padded[sentence_labels_index, label_index, y_test_index[sentence_labels_index][label_index]+1] = 1        \n",
    "    # 优化：若为填充的标签，则将其预测为第一位为1 \n",
    "    if len(y_test_index[sentence_labels_index]) < MAX_SEQUENCE_LENGTH:\n",
    "        for label_index in range(len(y_test_index[sentence_labels_index]), MAX_SEQUENCE_LENGTH):\n",
    "            y_test_index_padded[sentence_labels_index, label_index, 0] = 1\n",
    "    \n",
    "print('训练集中填充的张量为：\\n', y_train_index_padded[:1])\n",
    "print('\\n测试集中填充的张量为：\\n', y_test_index_padded[:1])"
   ]
  },
  {
   "cell_type": "markdown",
   "metadata": {},
   "source": [
    "## 4. word2vec模型导入\n",
    "预训练的word2vec模型采用前人用中文维基百科训练好的模型"
   ]
  },
  {
   "cell_type": "code",
   "execution_count": 9,
   "metadata": {},
   "outputs": [
    {
     "name": "stderr",
     "output_type": "stream",
     "text": [
      "D:\\Anaconda3-5.3.0\\lib\\site-packages\\ipykernel_launcher.py:7: DeprecationWarning: Call to deprecated `wv` (Attribute will be removed in 4.0.0, use self instead).\n",
      "  import sys\n",
      "D:\\Anaconda3-5.3.0\\lib\\site-packages\\ipykernel_launcher.py:10: DeprecationWarning: Call to deprecated `wv` (Attribute will be removed in 4.0.0, use self instead).\n",
      "  # Remove the CWD from sys.path while we load stuff.\n"
     ]
    }
   ],
   "source": [
    "'''（1）导入 预训练的词向量'''\n",
    "\n",
    "# 本地词向量的地址\n",
    "myPath = '../week7&8_NLP & POS tagging/data/sgns.wiki.word'   \n",
    "\n",
    "# 以二进制读取词向量\n",
    "Word2VecModel = gensim.models.KeyedVectors.load_word2vec_format(myPath).wv\n",
    "\n",
    "# 词语的向量，是numpy格式\n",
    "vector = Word2VecModel.wv['空间']\n",
    "# print(vector)"
   ]
  },
  {
   "cell_type": "code",
   "execution_count": 10,
   "metadata": {},
   "outputs": [
    {
     "name": "stdout",
     "output_type": "stream",
     "text": [
      "词向量的类型为： <class 'gensim.models.keyedvectors.Word2VecKeyedVectors'>\n",
      "，\n",
      "Vocab(count:352217, index:0)\n"
     ]
    },
    {
     "name": "stderr",
     "output_type": "stream",
     "text": [
      "D:\\Anaconda3-5.3.0\\lib\\site-packages\\ipykernel_launcher.py:2: DeprecationWarning: Call to deprecated `wv` (Attribute will be removed in 4.0.0, use self instead).\n",
      "  \n",
      "D:\\Anaconda3-5.3.0\\lib\\site-packages\\ipykernel_launcher.py:6: DeprecationWarning: Call to deprecated `wv` (Attribute will be removed in 4.0.0, use self instead).\n",
      "  \n"
     ]
    }
   ],
   "source": [
    "# 输出词向量的类型\n",
    "print('词向量的类型为：', type(Word2VecModel.wv))  \n",
    "# 结果为：Word2VecKeyedVectors\n",
    "\n",
    "# 获取word2vec训练后model中的所有的词\n",
    "for i, j in Word2VecModel.wv.vocab.items():\n",
    "    # 此时 i 代表每个单词\n",
    "    print(i) \n",
    "    \n",
    "    # j 代表封装了 词频 等信息的 gensim“Vocab”对象\n",
    "    # 例子：Vocab(count:1481, index:38, sample_int:3701260191)\n",
    "    print(j)\n",
    "    \n",
    "    break"
   ]
  },
  {
   "cell_type": "code",
   "execution_count": 11,
   "metadata": {},
   "outputs": [
    {
     "name": "stderr",
     "output_type": "stream",
     "text": [
      "D:\\Anaconda3-5.3.0\\lib\\site-packages\\ipykernel_launcher.py:5: DeprecationWarning: Call to deprecated `wv` (Attribute will be removed in 4.0.0, use self instead).\n",
      "  \"\"\"\n"
     ]
    }
   ],
   "source": [
    "'''（2）构造包含所有词语的list；\n",
    "        初始化“词语-序号”字典和“词向量”矩阵\n",
    "'''\n",
    "# 存储所有的单词和gensim“Vocab”对象\n",
    "vocab_list = [word for word, Vocab in Word2VecModel.wv.vocab.items()]\n",
    "\n",
    "# 初始化 `[word : token]` ，后期 tokenize 语料库就是用该词典。\n",
    "word_index = {\" \": 0}\n",
    "\n",
    "# 初始化`[word : vector]`字典\n",
    "word_vector = {}\n",
    "\n",
    "# 初始化 存储所有向量的大矩阵【其中多一位（首行）：词向量全为 0，用于 padding补零。\n",
    "# 行数为：所有单词数+1。比如 10000+1 ； \n",
    "# 列数为：词向量“维度”。比如100。\n",
    "embeddings_matrix = np.zeros((len(vocab_list)+1, Word2VecModel.vector_size))"
   ]
  },
  {
   "cell_type": "code",
   "execution_count": 12,
   "metadata": {},
   "outputs": [
    {
     "name": "stderr",
     "output_type": "stream",
     "text": [
      "D:\\Anaconda3-5.3.0\\lib\\site-packages\\ipykernel_launcher.py:11: DeprecationWarning: Call to deprecated `wv` (Attribute will be removed in 4.0.0, use self instead).\n",
      "  # This is added back by InteractiveShellApp.init_path()\n",
      "D:\\Anaconda3-5.3.0\\lib\\site-packages\\ipykernel_launcher.py:13: DeprecationWarning: Call to deprecated `wv` (Attribute will be removed in 4.0.0, use self instead).\n",
      "  del sys.path[0]\n"
     ]
    }
   ],
   "source": [
    "'''（3）填充上述的字典word_index和大矩阵embeddings_matrix'''\n",
    "\n",
    "# 循环遍历 存储所有的单词和gensim“Vocab”对象的 vocab_list列表\n",
    "for i in range(len(vocab_list)):\n",
    "    #print(i)    \n",
    "    # 将每个词语存储到vocab_list列表中\n",
    "    word = vocab_list[i]    \n",
    "    # 将每个词语及对应的序号存储到word_index字典中\n",
    "    word_index[word] = i + 1   \n",
    "    # 将每个{词语：词向量}存储到word_vector字典中\n",
    "    word_vector[word] = Word2VecModel.wv[word]   \n",
    "    # 将每个{词向量：序号+1}存储到词向量矩阵embeddings_matrix中\n",
    "    embeddings_matrix[i + 1] = Word2VecModel.wv[word]\n",
    "    \n",
    "# 保存word_index字典\n",
    "np.save('word_index.npy', word_index)"
   ]
  },
  {
   "cell_type": "code",
   "execution_count": 13,
   "metadata": {},
   "outputs": [
    {
     "name": "stdout",
     "output_type": "stream",
     "text": [
      "训练集中的词语转换为索引为：\n",
      " [[  347 16980   507    10 15537   603  4380     0     0     0     0     0\n",
      "      0     0     0     0     0     0     0     0     0     0     0     0\n",
      "      0     0     0     0     0     0     0     0     0     0     0     0\n",
      "      0     0     0     0     0     0     0     0     0     0     0     0\n",
      "      0     0     0     0     0     0     0     0     0     0     0     0\n",
      "      0     0     0     0     0     0     0     0     0     0     0     0\n",
      "      0     0     0     0     0     0     0     0     0     0     0     0\n",
      "      0     0     0     0     0     0     0     0     0     0     0     0\n",
      "      0     0     0     0]]\n",
      "\n",
      "测试集中的词语转换为索引为：\n",
      " [[  28  523    6 5705 2208  287 1216  587 1523    0    0    0    0    0\n",
      "     0    0    0    0    0    0    0    0    0    0    0    0    0    0\n",
      "     0    0    0    0    0    0    0    0    0    0    0    0    0    0\n",
      "     0    0    0    0    0    0    0    0    0    0    0    0    0    0\n",
      "     0    0    0    0    0    0    0    0    0    0    0    0    0    0\n",
      "     0    0    0    0    0    0    0    0    0    0    0    0    0    0\n",
      "     0    0    0    0    0    0    0    0    0    0    0    0    0    0\n",
      "     0    0]]\n"
     ]
    }
   ],
   "source": [
    "'''（4）序号化 文本；\n",
    "        tokenizer句子；\n",
    "        并返回每个句子所对应的词语索引\n",
    "'''\n",
    "from keras.preprocessing import sequence\n",
    "\n",
    "# 由于将词语转化为索引的word_index需要与词向量模型对齐，故在导入词向量模型后再将X进行处理\n",
    "def tokenizer(texts, word_index):\n",
    "    data = []\n",
    "    \n",
    "    for sentence in texts:\n",
    "        new_sentence = []\n",
    "        for word in sentence:\n",
    "            try:\n",
    "                # 根据word_index字典把文本中的词语转化为index\n",
    "                new_sentence.append(word_index[word])\n",
    "            except:\n",
    "                new_sentence.append(0)\n",
    "        data.append(new_sentence)\n",
    "        \n",
    "    # 使用kears的内置函数padding对齐句子（好处是输出numpy数组，不用自己转化了）\n",
    "    data = sequence.pad_sequences(data,\n",
    "                                 maxlen = MAX_SEQUENCE_LENGTH, # 序列的最大长度（大于此长度的序列将被截短，小于此长度的序列将在后部填0）\n",
    "                                 padding = 'post', # 当需要补0时，在序列的结尾补\n",
    "                                 truncating = 'post', # 当需要截断序列时，从结尾截断\n",
    "                                 )\n",
    "    return data\n",
    "\n",
    "# 将训练集中的词语转换为索引\n",
    "X_train_tokenized = tokenizer(X_train_sent_split, word_index)\n",
    "\n",
    "# 将测试集中的词语转换为索引\n",
    "X_test_tokenized = tokenizer(X_test_sent_split, word_index)\n",
    "\n",
    "print('训练集中的词语转换为索引为：\\n', X_train_tokenized[:1])\n",
    "print('\\n测试集中的词语转换为索引为：\\n', X_test_tokenized[:1])"
   ]
  },
  {
   "cell_type": "markdown",
   "metadata": {},
   "source": [
    "## 5. 标引网络构建及训练评估"
   ]
  },
  {
   "cell_type": "code",
   "execution_count": 14,
   "metadata": {},
   "outputs": [],
   "source": [
    "from keras.models import Sequential\n",
    "from keras.layers import Embedding, Dense, Dropout, Bidirectional, GRU\n",
    "import keras\n",
    "from keras import optimizers\n",
    "\n",
    "# 词向量维度为300\n",
    "EMBEDDING_DIM = 300"
   ]
  },
  {
   "cell_type": "markdown",
   "metadata": {},
   "source": [
    "### Bidirectional GRU"
   ]
  },
  {
   "cell_type": "code",
   "execution_count": 15,
   "metadata": {},
   "outputs": [],
   "source": [
    "# BGRU模型\n",
    "def BGRU(embeddings_matrix, EMBEDDING_DIM, MAX_SEQUENCE_LENGTH, labels_types):\n",
    "    model = Sequential()\n",
    "    model.add(Embedding(input_dim = len(embeddings_matrix), # 字典长度\n",
    "                        output_dim = EMBEDDING_DIM, # 词向量长度（300）\n",
    "                        weights = [embeddings_matrix], # 预训练的词向量系数\n",
    "                        input_length = MAX_SEQUENCE_LENGTH, # 每句话的最大长度（必须padding） \n",
    "                        trainable = False, # 是否在训练的过程中更新词向量\n",
    "                       ),\n",
    "             )\n",
    "\n",
    "    ## input_shape=(Batch_size, Time_step, Input_Sizes)\n",
    "    # 输入层（添加bidirctional）\n",
    "    model.add(Bidirectional(GRU(128,\n",
    "                                input_shape=(MAX_SEQUENCE_LENGTH, EMBEDDING_DIM),\n",
    "                                activation='tanh',\n",
    "                                return_sequences=True), \n",
    "                            merge_mode='concat',\n",
    "                           ),\n",
    "             )\n",
    "    model.add(Dropout(0.5)) # 减少过拟合\n",
    "\n",
    "    # 隐藏层\n",
    "    model.add(Dense(64, \n",
    "                    input_shape=(MAX_SEQUENCE_LENGTH, 128), # 128维\n",
    "                    activation='relu',\n",
    "                   )\n",
    "             )\n",
    "    model.add(Dropout(0.5))\n",
    "\n",
    "    # 输出层\n",
    "    model.add(Dense(len(labels_types)+1,\n",
    "                    input_shape=(MAX_SEQUENCE_LENGTH, 64),  # 64维\n",
    "                    activation='softmax',\n",
    "                   )\n",
    "             )\n",
    "    return model\n",
    "\n",
    "model = BGRU(embeddings_matrix, EMBEDDING_DIM, MAX_SEQUENCE_LENGTH, labels_types)"
   ]
  },
  {
   "cell_type": "markdown",
   "metadata": {},
   "source": [
    "#### 采用RMSprop优化器"
   ]
  },
  {
   "cell_type": "code",
   "execution_count": 16,
   "metadata": {},
   "outputs": [],
   "source": [
    "rms = optimizers.RMSprop(lr=0.001, rho=0.9, epsilon=None, decay=0.0)\n",
    "model.compile(loss='categorical_crossentropy', # 损失函数\n",
    "              optimizer=rms, # 优化器采用'rmsprop'\n",
    "              metrics=['accuracy'], # 评价指标是准确率\n",
    "             )"
   ]
  },
  {
   "cell_type": "code",
   "execution_count": 17,
   "metadata": {},
   "outputs": [
    {
     "name": "stdout",
     "output_type": "stream",
     "text": [
      "Model: \"sequential\"\n",
      "_________________________________________________________________\n",
      "Layer (type)                 Output Shape              Param #   \n",
      "=================================================================\n",
      "embedding (Embedding)        (None, 100, 300)          105665400 \n",
      "_________________________________________________________________\n",
      "bidirectional (Bidirectional (None, 100, 256)          330240    \n",
      "_________________________________________________________________\n",
      "dropout (Dropout)            (None, 100, 256)          0         \n",
      "_________________________________________________________________\n",
      "dense (Dense)                (None, 100, 64)           16448     \n",
      "_________________________________________________________________\n",
      "dropout_1 (Dropout)          (None, 100, 64)           0         \n",
      "_________________________________________________________________\n",
      "dense_1 (Dense)              (None, 100, 37)           2405      \n",
      "=================================================================\n",
      "Total params: 106,014,493\n",
      "Trainable params: 349,093\n",
      "Non-trainable params: 105,665,400\n",
      "_________________________________________________________________\n"
     ]
    }
   ],
   "source": [
    "# 输出模型各层的参数状况\n",
    "model.summary()"
   ]
  },
  {
   "cell_type": "markdown",
   "metadata": {},
   "source": [
    "#### 对训练集进行再拆分，拆分出验证集"
   ]
  },
  {
   "cell_type": "code",
   "execution_count": 18,
   "metadata": {},
   "outputs": [],
   "source": [
    "from sklearn.model_selection import train_test_split\n",
    "\n",
    "# 对训练集进行再拆分，拆分出验证集\n",
    "X_train_final, X_val, y_train_final, y_val = train_test_split(X_train_tokenized, y_train_index_padded)"
   ]
  },
  {
   "cell_type": "code",
   "execution_count": 19,
   "metadata": {},
   "outputs": [
    {
     "name": "stdout",
     "output_type": "stream",
     "text": [
      "训练集中将词语转换为索引后: (13558, 100)\n",
      "\n",
      "训练集中将标签转换为索引并填充张量后 (13558, 100, 37)\n"
     ]
    }
   ],
   "source": [
    "# 输出训练集中将词语转换为索引后的shape\n",
    "print('训练集中将词语转换为索引后:', X_train_final.shape)\n",
    "# 18078个样本,每个样本100个词\n",
    "\n",
    "# 输出训练集中将标签转换为索引并填充张量后的shape\n",
    "print('\\n训练集中将标签转换为索引并填充张量后', y_train_final.shape)"
   ]
  },
  {
   "cell_type": "code",
   "execution_count": 20,
   "metadata": {},
   "outputs": [
    {
     "name": "stdout",
     "output_type": "stream",
     "text": [
      "Epoch 1/20\n",
      "106/106 [==============================] - 78s 737ms/step - loss: 0.5892 - accuracy: 0.8760 - val_loss: 0.1763 - val_accuracy: 0.9457\n",
      "Epoch 2/20\n",
      "106/106 [==============================] - 80s 758ms/step - loss: 0.1919 - accuracy: 0.9421 - val_loss: 0.1169 - val_accuracy: 0.9620\n",
      "Epoch 3/20\n",
      "106/106 [==============================] - 75s 709ms/step - loss: 0.1464 - accuracy: 0.9539 - val_loss: 0.0981 - val_accuracy: 0.9677\n",
      "Epoch 4/20\n",
      "106/106 [==============================] - 76s 719ms/step - loss: 0.1280 - accuracy: 0.9595 - val_loss: 0.0893 - val_accuracy: 0.9703\n",
      "Epoch 5/20\n",
      "106/106 [==============================] - 78s 738ms/step - loss: 0.1173 - accuracy: 0.9629 - val_loss: 0.0831 - val_accuracy: 0.9721\n",
      "Epoch 6/20\n",
      "106/106 [==============================] - 78s 733ms/step - loss: 0.1098 - accuracy: 0.9651 - val_loss: 0.0789 - val_accuracy: 0.9734\n",
      "Epoch 7/20\n",
      "106/106 [==============================] - 78s 734ms/step - loss: 0.1041 - accuracy: 0.9668 - val_loss: 0.0763 - val_accuracy: 0.9743\n",
      "Epoch 8/20\n",
      "106/106 [==============================] - 73s 689ms/step - loss: 0.0998 - accuracy: 0.9681 - val_loss: 0.0739 - val_accuracy: 0.9751\n",
      "Epoch 9/20\n",
      "106/106 [==============================] - 77s 727ms/step - loss: 0.0960 - accuracy: 0.9693 - val_loss: 0.0722 - val_accuracy: 0.9757\n",
      "Epoch 10/20\n",
      "106/106 [==============================] - 76s 719ms/step - loss: 0.0931 - accuracy: 0.9703 - val_loss: 0.0704 - val_accuracy: 0.9763\n",
      "Epoch 11/20\n",
      "106/106 [==============================] - 80s 757ms/step - loss: 0.0906 - accuracy: 0.9710 - val_loss: 0.0706 - val_accuracy: 0.9762\n",
      "Epoch 12/20\n",
      "106/106 [==============================] - 76s 719ms/step - loss: 0.0883 - accuracy: 0.9717 - val_loss: 0.0682 - val_accuracy: 0.9772\n",
      "Epoch 13/20\n",
      "106/106 [==============================] - 79s 744ms/step - loss: 0.0854 - accuracy: 0.9725 - val_loss: 0.0670 - val_accuracy: 0.9775\n",
      "Epoch 14/20\n",
      "106/106 [==============================] - 79s 748ms/step - loss: 0.0835 - accuracy: 0.9732 - val_loss: 0.0663 - val_accuracy: 0.9778\n",
      "Epoch 15/20\n",
      "106/106 [==============================] - 69s 650ms/step - loss: 0.0818 - accuracy: 0.9736 - val_loss: 0.0657 - val_accuracy: 0.9779\n",
      "Epoch 16/20\n",
      "106/106 [==============================] - 67s 629ms/step - loss: 0.0799 - accuracy: 0.9743 - val_loss: 0.0653 - val_accuracy: 0.9779\n",
      "Epoch 17/20\n",
      "106/106 [==============================] - 27438s 259s/step - loss: 0.0784 - accuracy: 0.9748 - val_loss: 0.0651 - val_accuracy: 0.9779\n",
      "Epoch 18/20\n",
      "106/106 [==============================] - 74s 697ms/step - loss: 0.0767 - accuracy: 0.9753 - val_loss: 0.0643 - val_accuracy: 0.9785\n",
      "Epoch 19/20\n",
      "106/106 [==============================] - 79s 744ms/step - loss: 0.0760 - accuracy: 0.9754 - val_loss: 0.0633 - val_accuracy: 0.9789\n",
      "Epoch 20/20\n",
      "106/106 [==============================] - 81s 763ms/step - loss: 0.0740 - accuracy: 0.9761 - val_loss: 0.0648 - val_accuracy: 0.9786\n",
      "\n",
      "* * * * * * * * * * * * * * * * * * * * * * * * * * * * * * Test Evaluation * * * * * * * * * * * * * * * * * * * * * * * * * * * * * * \n",
      "3/3 [==============================] - 0s 145ms/step - loss: 0.0431 - accuracy: 0.9861\n"
     ]
    }
   ],
   "source": [
    "# 使用训练集对模型进行训练\n",
    "network_history = model.fit(X_train_final,\n",
    "                            y_train_final,\n",
    "                            epochs = 20,  # 训练20轮\n",
    "                            batch_size = 128, # 指定进行梯度下降时每个batch包含的样本数为128\n",
    "                            verbose = 1, # 展示训练过程\n",
    "                            validation_data = (X_val, y_val) # 验证集数据\n",
    "                           )\n",
    "\n",
    "# 用测试集评估训练完成的模型，返回损失值&模型的度量值.\n",
    "print()\n",
    "print('* ' * 30 + 'Test Evaluation ' + '* ' * 30)\n",
    "score = model.evaluate(X_test_tokenized, \n",
    "                       y_test_index_padded,\n",
    "                       batch_size=128,\n",
    "                      )"
   ]
  },
  {
   "cell_type": "markdown",
   "metadata": {},
   "source": [
    "## 可视化训练信息"
   ]
  },
  {
   "cell_type": "code",
   "execution_count": 22,
   "metadata": {},
   "outputs": [
    {
     "data": {
      "image/png": "[encoded data removed]",
      "text/plain": [
       "<Figure size 432x288 with 1 Axes>"
      ]
     },
     "metadata": {
      "needs_background": "light"
     },
     "output_type": "display_data"
    },
    {
     "data": {
      "image/png": "[encoded data removed]",
      "text/plain": [
       "<Figure size 432x288 with 1 Axes>"
      ]
     },
     "metadata": {
      "needs_background": "light"
     },
     "output_type": "display_data"
    }
   ],
   "source": [
    "import matplotlib.pyplot as plt\n",
    "%matplotlib inline\n",
    "\n",
    "# 绘制可视化图形的函数\n",
    "def plot_history(network_history):\n",
    "    # 获取数据\n",
    "    loss = network_history.history['loss']\n",
    "    accuracy = network_history.history['accuracy']\n",
    "    val_loss = network_history.history['val_loss']\n",
    "    val_accuracy = network_history.history['val_accuracy']\n",
    "    \n",
    "    ''' 图1：准确率'''    \n",
    "    plt.figure()\n",
    "    # 横坐标为次数，纵坐标为训练集的准确率\n",
    "    plt.plot(accuracy)\n",
    "    # 横坐标为次数，纵坐标为验证集的准确率\n",
    "    plt.plot(val_accuracy, linestyle='-.')\n",
    "    # 设置x，y轴标签\n",
    "    plt.xlabel('Epochs')\n",
    "    plt.ylabel('Accuracy')\n",
    "    # 设置线的标签，位置在图的右下方\n",
    "    plt.legend(['Training', 'Validating'], loc = 'lower right') \n",
    "   \n",
    "    ''' 图2：损失率'''\n",
    "    plt.figure()\n",
    "    # 横坐标为次数，纵坐标为训练集的损失\n",
    "    plt.plot(loss)\n",
    "    # 横坐标为次数，纵坐标为验证集的损失\n",
    "    plt.plot(val_loss, linestyle='-.')\n",
    "    # 设置x，y轴标签\n",
    "    plt.xlabel('Epochs')\n",
    "    plt.ylabel('Loss')\n",
    "    # 设置线的标签，位置默认在图的右上方    \n",
    "    plt.legend(['Training', 'Validating']) \n",
    "\n",
    "    plt.show()\n",
    "    \n",
    "# 调用上面的函数，并传入参数network_history\n",
    "plot_history(network_history)"
   ]
  },
  {
   "cell_type": "code",
   "execution_count": 23,
   "metadata": {},
   "outputs": [],
   "source": [
    "# 保存BiGRU模型\n",
    "model.save('cn_pos_tag_BiGRU.h5')"
   ]
  },
  {
   "cell_type": "markdown",
   "metadata": {},
   "source": [
    "### 测试集评估结果"
   ]
  },
  {
   "cell_type": "code",
   "execution_count": 24,
   "metadata": {},
   "outputs": [
    {
     "name": "stdout",
     "output_type": "stream",
     "text": [
      "训练的模型经在测试集上验证获得的loss和accuracy为：\n",
      "[0.04305679351091385, 0.9861207008361816]\n"
     ]
    }
   ],
   "source": [
    "print('训练的模型经在测试集上验证获得的loss和accuracy为：')\n",
    "print(score)"
   ]
  },
  {
   "cell_type": "code",
   "execution_count": 25,
   "metadata": {},
   "outputs": [
    {
     "name": "stdout",
     "output_type": "stream",
     "text": [
      "-----------------------对测试集进行预测------------------------\n",
      "（1）对测试集 X_test_tokenized[:1] 进行预测：\n",
      "[[[3.73076656e-12 6.42712851e-17 1.73028960e-14 ... 1.83664844e-04\n",
      "   1.09056360e-15 3.97369377e-07]\n",
      "  [3.78712029e-18 1.57504442e-24 1.24228238e-20 ... 1.55060138e-06\n",
      "   2.29426626e-23 6.20958340e-10]\n",
      "  [6.38529790e-18 7.79663115e-22 7.39971913e-14 ... 1.53646793e-03\n",
      "   2.17048840e-21 3.59033719e-10]\n",
      "  ...\n",
      "  [1.00000000e+00 0.00000000e+00 4.11636052e-32 ... 8.45300087e-15\n",
      "   0.00000000e+00 1.05886874e-23]\n",
      "  [1.00000000e+00 0.00000000e+00 2.96944355e-31 ... 2.33263997e-14\n",
      "   0.00000000e+00 5.88495852e-23]\n",
      "  [1.00000000e+00 0.00000000e+00 2.26503185e-30 ... 6.44060068e-14\n",
      "   0.00000000e+00 3.52953408e-22]]]\n"
     ]
    }
   ],
   "source": [
    "# 对测试集进行预测\n",
    "print('-----------------------对测试集进行预测------------------------')\n",
    "print('（1）对测试集 X_test_tokenized[:1] 进行预测：')\n",
    "print(model.predict(X_test_tokenized[:1]))"
   ]
  },
  {
   "cell_type": "code",
   "execution_count": 26,
   "metadata": {},
   "outputs": [
    {
     "name": "stdout",
     "output_type": "stream",
     "text": [
      "测试集中标签填充的张量 y_test_index_padded[:5] 为：\n",
      "[[[0. 0. 0. ... 0. 0. 0.]\n",
      "  [0. 0. 0. ... 0. 0. 0.]\n",
      "  [0. 0. 0. ... 0. 0. 0.]\n",
      "  ...\n",
      "  [1. 0. 0. ... 0. 0. 0.]\n",
      "  [1. 0. 0. ... 0. 0. 0.]\n",
      "  [1. 0. 0. ... 0. 0. 0.]]\n",
      "\n",
      " [[0. 0. 0. ... 0. 0. 0.]\n",
      "  [0. 0. 0. ... 0. 0. 0.]\n",
      "  [0. 0. 0. ... 0. 0. 0.]\n",
      "  ...\n",
      "  [1. 0. 0. ... 0. 0. 0.]\n",
      "  [1. 0. 0. ... 0. 0. 0.]\n",
      "  [1. 0. 0. ... 0. 0. 0.]]\n",
      "\n",
      " [[0. 0. 0. ... 0. 0. 0.]\n",
      "  [0. 0. 0. ... 0. 0. 0.]\n",
      "  [0. 0. 0. ... 0. 0. 0.]\n",
      "  ...\n",
      "  [1. 0. 0. ... 0. 0. 0.]\n",
      "  [1. 0. 0. ... 0. 0. 0.]\n",
      "  [1. 0. 0. ... 0. 0. 0.]]\n",
      "\n",
      " [[0. 0. 0. ... 0. 0. 0.]\n",
      "  [0. 0. 0. ... 0. 0. 0.]\n",
      "  [0. 0. 0. ... 0. 0. 0.]\n",
      "  ...\n",
      "  [1. 0. 0. ... 0. 0. 0.]\n",
      "  [1. 0. 0. ... 0. 0. 0.]\n",
      "  [1. 0. 0. ... 0. 0. 0.]]\n",
      "\n",
      " [[0. 0. 0. ... 0. 0. 0.]\n",
      "  [0. 0. 0. ... 0. 0. 0.]\n",
      "  [0. 0. 0. ... 0. 0. 0.]\n",
      "  ...\n",
      "  [1. 0. 0. ... 0. 0. 0.]\n",
      "  [1. 0. 0. ... 0. 0. 0.]\n",
      "  [1. 0. 0. ... 0. 0. 0.]]]\n"
     ]
    }
   ],
   "source": [
    "# 输出测试集中标签填充的张量\n",
    "print('测试集中标签填充的张量 y_test_index_padded[:5] 为：')\n",
    "print(y_test_index_padded[:5])"
   ]
  },
  {
   "cell_type": "code",
   "execution_count": 27,
   "metadata": {},
   "outputs": [
    {
     "name": "stdout",
     "output_type": "stream",
     "text": [
      "（2）对测试集 X_test_tokenized[2: 3] 进行预测：\n",
      "[[[1.2163329e-13 5.8711210e-25 1.9815924e-20 ... 8.7441997e-08\n",
      "   1.2300067e-24 7.8841005e-12]\n",
      "  [9.9759454e-14 1.4080784e-18 3.3342158e-17 ... 6.8827016e-05\n",
      "   1.9719188e-17 2.6718936e-08]\n",
      "  [2.7679751e-20 5.2090778e-26 6.0196579e-24 ... 1.6004677e-07\n",
      "   2.0896839e-24 5.3573500e-11]\n",
      "  ...\n",
      "  [1.0000000e+00 0.0000000e+00 4.2426556e-32 ... 8.5412304e-15\n",
      "   0.0000000e+00 1.0778107e-23]\n",
      "  [1.0000000e+00 0.0000000e+00 3.0602698e-31 ... 2.3568344e-14\n",
      "   0.0000000e+00 5.9902336e-23]\n",
      "  [1.0000000e+00 0.0000000e+00 2.3340095e-30 ... 6.5069071e-14\n",
      "   0.0000000e+00 3.5926185e-22]]]\n"
     ]
    }
   ],
   "source": [
    "# 对测试集进行预测\n",
    "print('（2）对测试集 X_test_tokenized[2: 3] 进行预测：')\n",
    "print(model.predict(X_test_tokenized[2: 3]))"
   ]
  },
  {
   "cell_type": "code",
   "execution_count": 28,
   "metadata": {},
   "outputs": [
    {
     "name": "stdout",
     "output_type": "stream",
     "text": [
      "测试集中标签填充的张量 y_test_index_padded[:3] 为：\n",
      "[[[0. 0. 0. ... 0. 0. 0.]\n",
      "  [0. 0. 0. ... 0. 0. 0.]\n",
      "  [0. 0. 0. ... 0. 0. 0.]\n",
      "  ...\n",
      "  [1. 0. 0. ... 0. 0. 0.]\n",
      "  [1. 0. 0. ... 0. 0. 0.]\n",
      "  [1. 0. 0. ... 0. 0. 0.]]\n",
      "\n",
      " [[0. 0. 0. ... 0. 0. 0.]\n",
      "  [0. 0. 0. ... 0. 0. 0.]\n",
      "  [0. 0. 0. ... 0. 0. 0.]\n",
      "  ...\n",
      "  [1. 0. 0. ... 0. 0. 0.]\n",
      "  [1. 0. 0. ... 0. 0. 0.]\n",
      "  [1. 0. 0. ... 0. 0. 0.]]\n",
      "\n",
      " [[0. 0. 0. ... 0. 0. 0.]\n",
      "  [0. 0. 0. ... 0. 0. 0.]\n",
      "  [0. 0. 0. ... 0. 0. 0.]\n",
      "  ...\n",
      "  [1. 0. 0. ... 0. 0. 0.]\n",
      "  [1. 0. 0. ... 0. 0. 0.]\n",
      "  [1. 0. 0. ... 0. 0. 0.]]]\n"
     ]
    }
   ],
   "source": [
    "# 输出测试集中标签填充的张量\n",
    "print('测试集中标签填充的张量 y_test_index_padded[:3] 为：')\n",
    "print(y_test_index_padded[:3])"
   ]
  },
  {
   "cell_type": "code",
   "execution_count": null,
   "metadata": {},
   "outputs": [],
   "source": []
  }
 ],
 "metadata": {
  "kernelspec": {
   "display_name": "Python 3",
   "language": "python",
   "name": "python3"
  },
  "language_info": {
   "codemirror_mode": {
    "name": "ipython",
    "version": 3
   },
   "file_extension": ".py",
   "mimetype": "text/x-python",
   "name": "python",
   "nbconvert_exporter": "python",
   "pygments_lexer": "ipython3",
   "version": "3.7.0"
  }
 },
 "nbformat": 4,
 "nbformat_minor": 2
}
