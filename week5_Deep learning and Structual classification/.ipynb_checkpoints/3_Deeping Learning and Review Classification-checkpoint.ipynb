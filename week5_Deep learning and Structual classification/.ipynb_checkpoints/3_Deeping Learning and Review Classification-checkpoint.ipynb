{
 "cells": [
  {
   "cell_type": "markdown",
   "metadata": {},
   "source": [
    "# IMDB电影评论情感分类数据集\n",
    "数据集来自IMDB的25,000条电影评论，以情绪（正面/ 负面）标记。评论已经过预处理，并编码为词索引（整数）的序列表示。为方便起见，将词按数据集中出现的频率进行索引，例如，整数3编码数据中第三个出现最频繁的词。这允许快速筛选操作，例如：【只考虑前10,000个最常用的词，但排除前20个最好常见的词】。\n",
    "\n",
    "作为惯例，0不代表特定的单词，而是被用于编码任何未知单词"
   ]
  },
  {
   "cell_type": "markdown",
   "metadata": {},
   "source": [
    "## 导入数据"
   ]
  },
  {
   "cell_type": "code",
   "execution_count": 1,
   "metadata": {},
   "outputs": [
    {
     "name": "stdout",
     "output_type": "stream",
     "text": [
      "Downloading data from https://storage.googleapis.com/tensorflow/tf-keras-datasets/imdb.npz\n",
      "17465344/17464789 [==============================] - 5s 0us/step\n",
      "X训练集特征数据的部分示例为：\n",
      " [list([1, 14, 22, 16, 43, 530, 973, 1622, 1385, 65, 458, 4468, 66, 3941, 4, 173, 36, 256, 5, 25, 100, 43, 838, 112, 50, 670, 2, 9, 35, 480, 284, 5, 150, 4, 172, 112, 167, 2, 336, 385, 39, 4, 172, 4536, 1111, 17, 546, 38, 13, 447, 4, 192, 50, 16, 6, 147, 2025, 19, 14, 22, 4, 1920, 4613, 469, 4, 22, 71, 87, 12, 16, 43, 530, 38, 76, 15, 13, 1247, 4, 22, 17, 515, 17, 12, 16, 626, 18, 2, 5, 62, 386, 12, 8, 316, 8, 106, 5, 4, 2223, 5244, 16, 480, 66, 3785, 33, 4, 130, 12, 16, 38, 619, 5, 25, 124, 51, 36, 135, 48, 25, 1415, 33, 6, 22, 12, 215, 28, 77, 52, 5, 14, 407, 16, 82, 2, 8, 4, 107, 117, 5952, 15, 256, 4, 2, 7, 3766, 5, 723, 36, 71, 43, 530, 476, 26, 400, 317, 46, 7, 4, 2, 1029, 13, 104, 88, 4, 381, 15, 297, 98, 32, 2071, 56, 26, 141, 6, 194, 7486, 18, 4, 226, 22, 21, 134, 476, 26, 480, 5, 144, 30, 5535, 18, 51, 36, 28, 224, 92, 25, 104, 4, 226, 65, 16, 38, 1334, 88, 12, 16, 283, 5, 16, 4472, 113, 103, 32, 15, 16, 5345, 19, 178, 32])]\n",
      "y训练集标签数据的部分示例为：\n",
      " [1 0 0 1 0]\n"
     ]
    }
   ],
   "source": [
    "from keras.datasets import imdb\n",
    "\n",
    "(X_train, y_train), (X_test, y_test) = imdb.load_data(path = \"imdb.npz\",\n",
    "                                                     num_words = 10000,\n",
    "                                                     skip_top = 0,\n",
    "                                                     maxlen = None,\n",
    "                                                     seed = 113,\n",
    "                                                     start_char = 1,\n",
    "                                                     oov_char = 2,\n",
    "                                                     index_from = 3)\n",
    "# 测试模型时可以使用小样本集，调参数时推荐使用完整数据集\n",
    "# X_train, y_train, X_test, y_test = X_train[:5000], y_train[:5000], X_test[:5000], y_test[:5000]\n",
    "\n",
    "print(\"X训练集特征数据的部分示例为：\\n\", X_train[:1])\n",
    "print(\"y训练集标签数据的部分示例为：\\n\", y_train[:5])"
   ]
  },
  {
   "cell_type": "markdown",
   "metadata": {},
   "source": [
    "## 数据预处理\n",
    "不能直接将list类型的数据送到神经网络中训练，必须将list类型转换为tensor张量类型。有两种转换方式：\n",
    "\n",
    "（1）将列表进行multi-hot编码，通过词袋模型的方法将每一个文档转化为0、1向量，然后使用全连接层构建分类器。\n",
    "\n",
    "（2）填充列表使每个列表长度都相同，然后将每个词分别转化为语义向量，形状为(samples, max_word_amount, word_vector_dim)，使用循环神经网络对每一个时间步的输入进行时序编码，构建模型。\n",
    "\n",
    "下面使用的是第（1）种方法"
   ]
  },
  {
   "cell_type": "markdown",
   "metadata": {},
   "source": [
    "### 函数知识点\n",
    "***np.zeros函数：***\n",
    "zeros(shape, dtype=float, order=‘C’)\n",
    "\n",
    "作用：返回来一个给定形状和类型的用0填充的数组；\n",
    "\n",
    "参数：\n",
    "shape:形状；\n",
    "dtype:数据类型，可选参数，默认numpy.float64；\n",
    "order:可选参数，c代表与c语言类似，行优先；F代表列优先；\n",
    "\n",
    "***enumerate() 函数：***\n",
    "enumerate(sequence, [start=0])\n",
    "\n",
    "作用：用于将一个可遍历的数据对象(如列表、元组或字符串)组合为一个索引序列，同时列出数据和数据下标。\n",
    "\n",
    "参数：sequence：一个序列、迭代器或其他支持迭代对象；start：下标起始位置"
   ]
  },
  {
   "cell_type": "code",
   "execution_count": 3,
   "metadata": {},
   "outputs": [
    {
     "name": "stdout",
     "output_type": "stream",
     "text": [
      "转化为词袋模型的X特征集示例为：\n",
      " [[0. 1. 1. ... 0. 0. 0.]]\n"
     ]
    }
   ],
   "source": [
    "import numpy as np\n",
    "\n",
    "# 通过词袋模型将每个评论转化为长度为10000的定长向量\n",
    "def vectorize_sequences(sequences, dimension = 10000):\n",
    "    results = np.zeros((len(sequences), dimension)) # 数据集长度，每个评论维度10000\n",
    "    for i, sequence in enumerate(sequences):\n",
    "        results[i, sequence] = 1    # one-hot\n",
    "    return results\n",
    "\n",
    "X_train = vectorize_sequences(X_train)\n",
    "X_test = vectorize_sequences(X_test)\n",
    "\n",
    "print(\"转化为词袋模型的X特征集示例为：\\n\", X_train[:1])\n",
    "\n",
    "# 向量化标签数据，并将数据类型转换为float\n",
    "y_train = np.asarray(y_train).astype('float32')  \n",
    "y_test = np.asarray(y_test).astype('float32')"
   ]
  },
  {
   "cell_type": "markdown",
   "metadata": {},
   "source": [
    "## 构建模型\n",
    "如果模型的参数太多，而训练样本又太少，训练出来的模型很容易产生过拟合的现象。而dropout让模型不会太依赖某些局部的特征"
   ]
  },
  {
   "cell_type": "code",
   "execution_count": 4,
   "metadata": {},
   "outputs": [
    {
     "name": "stdout",
     "output_type": "stream",
     "text": [
      "Epoch 1/20\n",
      "782/782 [==============================] - 3s 4ms/step - loss: 0.4810 - accuracy: 0.7785\n",
      "Epoch 2/20\n",
      "782/782 [==============================] - 3s 4ms/step - loss: 0.3502 - accuracy: 0.8740\n",
      "Epoch 3/20\n",
      "782/782 [==============================] - 3s 4ms/step - loss: 0.3235 - accuracy: 0.8832\n",
      "Epoch 4/20\n",
      "782/782 [==============================] - 3s 4ms/step - loss: 0.3069 - accuracy: 0.8887\n",
      "Epoch 5/20\n",
      "782/782 [==============================] - 3s 4ms/step - loss: 0.2944 - accuracy: 0.8917\n",
      "Epoch 6/20\n",
      "782/782 [==============================] - 3s 4ms/step - loss: 0.2889 - accuracy: 0.8975\n",
      "Epoch 7/20\n",
      "782/782 [==============================] - 3s 4ms/step - loss: 0.2751 - accuracy: 0.8988\n",
      "Epoch 8/20\n",
      "782/782 [==============================] - 3s 4ms/step - loss: 0.2786 - accuracy: 0.8982\n",
      "Epoch 9/20\n",
      "782/782 [==============================] - 3s 4ms/step - loss: 0.2728 - accuracy: 0.8982\n",
      "Epoch 10/20\n",
      "782/782 [==============================] - 3s 4ms/step - loss: 0.2708 - accuracy: 0.8986\n",
      "Epoch 11/20\n",
      "782/782 [==============================] - 3s 4ms/step - loss: 0.2761 - accuracy: 0.8950\n",
      "Epoch 12/20\n",
      "782/782 [==============================] - 3s 4ms/step - loss: 0.2701 - accuracy: 0.8986\n",
      "Epoch 13/20\n",
      "782/782 [==============================] - 3s 4ms/step - loss: 0.2667 - accuracy: 0.8998\n",
      "Epoch 14/20\n",
      "782/782 [==============================] - 3s 4ms/step - loss: 0.2687 - accuracy: 0.8986\n",
      "Epoch 15/20\n",
      "782/782 [==============================] - 3s 4ms/step - loss: 0.2683 - accuracy: 0.8968\n",
      "Epoch 16/20\n",
      "782/782 [==============================] - 3s 4ms/step - loss: 0.2723 - accuracy: 0.8981\n",
      "Epoch 17/20\n",
      "782/782 [==============================] - 3s 4ms/step - loss: 0.2680 - accuracy: 0.9007\n",
      "Epoch 18/20\n",
      "782/782 [==============================] - 3s 4ms/step - loss: 0.2668 - accuracy: 0.9020\n",
      "Epoch 19/20\n",
      "782/782 [==============================] - 3s 4ms/step - loss: 0.2615 - accuracy: 0.9036\n",
      "Epoch 20/20\n",
      "782/782 [==============================] - 3s 4ms/step - loss: 0.2668 - accuracy: 0.8996\n",
      "1563/1563 [==============================] - 2s 1ms/step - loss: 0.3397 - accuracy: 0.8739\n",
      "测试集上的测试误差及准确率为： [0.3396686613559723, 0.8738800287246704]\n"
     ]
    }
   ],
   "source": [
    "from keras.models import Sequential\n",
    "from keras.layers import Dense, Dropout\n",
    "\n",
    "max_features = 10000   # 词仅采用了10000以内的整数作为编码\n",
    "\n",
    "model = Sequential()\n",
    "model.add(Dense(16, activation='relu', input_shape=(10000,)))\n",
    "model.add(Dropout(0.5))\n",
    "model.add(Dense(16, activation='relu'))\n",
    "model.add(Dropout(0.5))\n",
    "model.add(Dense(1, activation='sigmoid'))  # 二分类问题\n",
    "\n",
    "model.compile(loss = 'binary_crossentropy',\n",
    "             optimizer = 'rmsprop',\n",
    "             metrics = ['accuracy'])\n",
    "\n",
    "model_history = model.fit(X_train, y_train, batch_size = 32, epochs = 20)\n",
    "score = model.evaluate(X_test, y_test, batch_size = 16)\n",
    "\n",
    "print(\"测试集上的测试误差及准确率为：\", score)"
   ]
  },
  {
   "cell_type": "code",
   "execution_count": 5,
   "metadata": {},
   "outputs": [
    {
     "name": "stdout",
     "output_type": "stream",
     "text": [
      "Model: \"sequential\"\n",
      "_________________________________________________________________\n",
      "Layer (type)                 Output Shape              Param #   \n",
      "=================================================================\n",
      "dense (Dense)                (None, 16)                160016    \n",
      "_________________________________________________________________\n",
      "dropout (Dropout)            (None, 16)                0         \n",
      "_________________________________________________________________\n",
      "dense_1 (Dense)              (None, 16)                272       \n",
      "_________________________________________________________________\n",
      "dropout_1 (Dropout)          (None, 16)                0         \n",
      "_________________________________________________________________\n",
      "dense_2 (Dense)              (None, 1)                 17        \n",
      "=================================================================\n",
      "Total params: 160,305\n",
      "Trainable params: 160,305\n",
      "Non-trainable params: 0\n",
      "_________________________________________________________________\n"
     ]
    }
   ],
   "source": [
    "model.summary()"
   ]
  },
  {
   "cell_type": "markdown",
   "metadata": {},
   "source": [
    "# 拓展作业\n",
    "1、有兴趣的同学可以思考一下，如何将词向量模型应用到神经网络中。\n",
    "\n",
    "2、以Keras自带的“路透社新闻主题分类”数据集复现实验并调整网络架构以及模型参数。学习率及优化器的调整可参考学习脚本9_Instances_of_sequential_model中优化器的定义。\n",
    "\n",
    "3、在训练集上进行拆分，添加验证集以验证模型在训练过程中的表现。"
   ]
  },
  {
   "cell_type": "code",
   "execution_count": null,
   "metadata": {},
   "outputs": [],
   "source": []
  }
 ],
 "metadata": {
  "kernelspec": {
   "display_name": "Python 3",
   "language": "python",
   "name": "python3"
  },
  "language_info": {
   "codemirror_mode": {
    "name": "ipython",
    "version": 3
   },
   "file_extension": ".py",
   "mimetype": "text/x-python",
   "name": "python",
   "nbconvert_exporter": "python",
   "pygments_lexer": "ipython3",
   "version": "3.7.0"
  }
 },
 "nbformat": 4,
 "nbformat_minor": 2
}
